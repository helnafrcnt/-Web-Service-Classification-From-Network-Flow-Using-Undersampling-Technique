{
  "cells": [
    {
      "cell_type": "markdown",
      "metadata": {
        "id": "nMSjLwzaYjq4"
      },
      "source": [
        "# 1.Understanding Data\n",
        "Read Data Network Flow Using Pandas"
      ]
    },
    {
      "cell_type": "code",
      "execution_count": null,
      "metadata": {
        "colab": {
          "base_uri": "https://localhost:8080/"
        },
        "id": "JVw3RZAPZFyQ",
        "outputId": "1fa0f8df-5da0-4fde-8cd3-9492b70187f9"
      },
      "outputs": [
        {
          "output_type": "stream",
          "name": "stdout",
          "text": [
            "Mounted at /content/gdrive\n"
          ]
        }
      ],
      "source": [
        "from google.colab import drive\n",
        "drive.mount(\"/content/gdrive\")"
      ]
    },
    {
      "cell_type": "code",
      "execution_count": null,
      "metadata": {
        "colab": {
          "base_uri": "https://localhost:8080/",
          "height": 397
        },
        "id": "Y-144pBmQI9h",
        "outputId": "f0746478-b688-4b55-c40a-976c0c0bbaf8"
      },
      "outputs": [
        {
          "output_type": "error",
          "ename": "FileNotFoundError",
          "evalue": "ignored",
          "traceback": [
            "\u001b[0;31m---------------------------------------------------------------------------\u001b[0m",
            "\u001b[0;31mFileNotFoundError\u001b[0m                         Traceback (most recent call last)",
            "\u001b[0;32m<ipython-input-1-24fa970a0adb>\u001b[0m in \u001b[0;36m<module>\u001b[0;34m\u001b[0m\n\u001b[1;32m      1\u001b[0m \u001b[0;32mimport\u001b[0m \u001b[0mpandas\u001b[0m \u001b[0;32mas\u001b[0m \u001b[0mpd\u001b[0m\u001b[0;34m\u001b[0m\u001b[0;34m\u001b[0m\u001b[0m\n\u001b[1;32m      2\u001b[0m \u001b[0;34m\u001b[0m\u001b[0m\n\u001b[0;32m----> 3\u001b[0;31m \u001b[0mdf\u001b[0m \u001b[0;34m=\u001b[0m \u001b[0mpd\u001b[0m\u001b[0;34m.\u001b[0m\u001b[0mread_csv\u001b[0m\u001b[0;34m(\u001b[0m\u001b[0;34m'/content/gdrive/My Drive/dataset/Fitur_Wavelet_1234_Cassava Leaf.csv'\u001b[0m\u001b[0;34m)\u001b[0m\u001b[0;34m\u001b[0m\u001b[0;34m\u001b[0m\u001b[0m\n\u001b[0m\u001b[1;32m      4\u001b[0m \u001b[0mdf\u001b[0m\u001b[0;34m.\u001b[0m\u001b[0mhead\u001b[0m\u001b[0;34m(\u001b[0m\u001b[0;34m)\u001b[0m\u001b[0;34m\u001b[0m\u001b[0;34m\u001b[0m\u001b[0m\n",
            "\u001b[0;32m/usr/local/lib/python3.7/dist-packages/pandas/util/_decorators.py\u001b[0m in \u001b[0;36mwrapper\u001b[0;34m(*args, **kwargs)\u001b[0m\n\u001b[1;32m    309\u001b[0m                     \u001b[0mstacklevel\u001b[0m\u001b[0;34m=\u001b[0m\u001b[0mstacklevel\u001b[0m\u001b[0;34m,\u001b[0m\u001b[0;34m\u001b[0m\u001b[0;34m\u001b[0m\u001b[0m\n\u001b[1;32m    310\u001b[0m                 )\n\u001b[0;32m--> 311\u001b[0;31m             \u001b[0;32mreturn\u001b[0m \u001b[0mfunc\u001b[0m\u001b[0;34m(\u001b[0m\u001b[0;34m*\u001b[0m\u001b[0margs\u001b[0m\u001b[0;34m,\u001b[0m \u001b[0;34m**\u001b[0m\u001b[0mkwargs\u001b[0m\u001b[0;34m)\u001b[0m\u001b[0;34m\u001b[0m\u001b[0;34m\u001b[0m\u001b[0m\n\u001b[0m\u001b[1;32m    312\u001b[0m \u001b[0;34m\u001b[0m\u001b[0m\n\u001b[1;32m    313\u001b[0m         \u001b[0;32mreturn\u001b[0m \u001b[0mwrapper\u001b[0m\u001b[0;34m\u001b[0m\u001b[0;34m\u001b[0m\u001b[0m\n",
            "\u001b[0;32m/usr/local/lib/python3.7/dist-packages/pandas/io/parsers/readers.py\u001b[0m in \u001b[0;36mread_csv\u001b[0;34m(filepath_or_buffer, sep, delimiter, header, names, index_col, usecols, squeeze, prefix, mangle_dupe_cols, dtype, engine, converters, true_values, false_values, skipinitialspace, skiprows, skipfooter, nrows, na_values, keep_default_na, na_filter, verbose, skip_blank_lines, parse_dates, infer_datetime_format, keep_date_col, date_parser, dayfirst, cache_dates, iterator, chunksize, compression, thousands, decimal, lineterminator, quotechar, quoting, doublequote, escapechar, comment, encoding, encoding_errors, dialect, error_bad_lines, warn_bad_lines, on_bad_lines, delim_whitespace, low_memory, memory_map, float_precision, storage_options)\u001b[0m\n\u001b[1;32m    584\u001b[0m     \u001b[0mkwds\u001b[0m\u001b[0;34m.\u001b[0m\u001b[0mupdate\u001b[0m\u001b[0;34m(\u001b[0m\u001b[0mkwds_defaults\u001b[0m\u001b[0;34m)\u001b[0m\u001b[0;34m\u001b[0m\u001b[0;34m\u001b[0m\u001b[0m\n\u001b[1;32m    585\u001b[0m \u001b[0;34m\u001b[0m\u001b[0m\n\u001b[0;32m--> 586\u001b[0;31m     \u001b[0;32mreturn\u001b[0m \u001b[0m_read\u001b[0m\u001b[0;34m(\u001b[0m\u001b[0mfilepath_or_buffer\u001b[0m\u001b[0;34m,\u001b[0m \u001b[0mkwds\u001b[0m\u001b[0;34m)\u001b[0m\u001b[0;34m\u001b[0m\u001b[0;34m\u001b[0m\u001b[0m\n\u001b[0m\u001b[1;32m    587\u001b[0m \u001b[0;34m\u001b[0m\u001b[0m\n\u001b[1;32m    588\u001b[0m \u001b[0;34m\u001b[0m\u001b[0m\n",
            "\u001b[0;32m/usr/local/lib/python3.7/dist-packages/pandas/io/parsers/readers.py\u001b[0m in \u001b[0;36m_read\u001b[0;34m(filepath_or_buffer, kwds)\u001b[0m\n\u001b[1;32m    480\u001b[0m \u001b[0;34m\u001b[0m\u001b[0m\n\u001b[1;32m    481\u001b[0m     \u001b[0;31m# Create the parser.\u001b[0m\u001b[0;34m\u001b[0m\u001b[0;34m\u001b[0m\u001b[0;34m\u001b[0m\u001b[0m\n\u001b[0;32m--> 482\u001b[0;31m     \u001b[0mparser\u001b[0m \u001b[0;34m=\u001b[0m \u001b[0mTextFileReader\u001b[0m\u001b[0;34m(\u001b[0m\u001b[0mfilepath_or_buffer\u001b[0m\u001b[0;34m,\u001b[0m \u001b[0;34m**\u001b[0m\u001b[0mkwds\u001b[0m\u001b[0;34m)\u001b[0m\u001b[0;34m\u001b[0m\u001b[0;34m\u001b[0m\u001b[0m\n\u001b[0m\u001b[1;32m    483\u001b[0m \u001b[0;34m\u001b[0m\u001b[0m\n\u001b[1;32m    484\u001b[0m     \u001b[0;32mif\u001b[0m \u001b[0mchunksize\u001b[0m \u001b[0;32mor\u001b[0m \u001b[0miterator\u001b[0m\u001b[0;34m:\u001b[0m\u001b[0;34m\u001b[0m\u001b[0;34m\u001b[0m\u001b[0m\n",
            "\u001b[0;32m/usr/local/lib/python3.7/dist-packages/pandas/io/parsers/readers.py\u001b[0m in \u001b[0;36m__init__\u001b[0;34m(self, f, engine, **kwds)\u001b[0m\n\u001b[1;32m    809\u001b[0m             \u001b[0mself\u001b[0m\u001b[0;34m.\u001b[0m\u001b[0moptions\u001b[0m\u001b[0;34m[\u001b[0m\u001b[0;34m\"has_index_names\"\u001b[0m\u001b[0;34m]\u001b[0m \u001b[0;34m=\u001b[0m \u001b[0mkwds\u001b[0m\u001b[0;34m[\u001b[0m\u001b[0;34m\"has_index_names\"\u001b[0m\u001b[0;34m]\u001b[0m\u001b[0;34m\u001b[0m\u001b[0;34m\u001b[0m\u001b[0m\n\u001b[1;32m    810\u001b[0m \u001b[0;34m\u001b[0m\u001b[0m\n\u001b[0;32m--> 811\u001b[0;31m         \u001b[0mself\u001b[0m\u001b[0;34m.\u001b[0m\u001b[0m_engine\u001b[0m \u001b[0;34m=\u001b[0m \u001b[0mself\u001b[0m\u001b[0;34m.\u001b[0m\u001b[0m_make_engine\u001b[0m\u001b[0;34m(\u001b[0m\u001b[0mself\u001b[0m\u001b[0;34m.\u001b[0m\u001b[0mengine\u001b[0m\u001b[0;34m)\u001b[0m\u001b[0;34m\u001b[0m\u001b[0;34m\u001b[0m\u001b[0m\n\u001b[0m\u001b[1;32m    812\u001b[0m \u001b[0;34m\u001b[0m\u001b[0m\n\u001b[1;32m    813\u001b[0m     \u001b[0;32mdef\u001b[0m \u001b[0mclose\u001b[0m\u001b[0;34m(\u001b[0m\u001b[0mself\u001b[0m\u001b[0;34m)\u001b[0m\u001b[0;34m:\u001b[0m\u001b[0;34m\u001b[0m\u001b[0;34m\u001b[0m\u001b[0m\n",
            "\u001b[0;32m/usr/local/lib/python3.7/dist-packages/pandas/io/parsers/readers.py\u001b[0m in \u001b[0;36m_make_engine\u001b[0;34m(self, engine)\u001b[0m\n\u001b[1;32m   1038\u001b[0m             )\n\u001b[1;32m   1039\u001b[0m         \u001b[0;31m# error: Too many arguments for \"ParserBase\"\u001b[0m\u001b[0;34m\u001b[0m\u001b[0;34m\u001b[0m\u001b[0;34m\u001b[0m\u001b[0m\n\u001b[0;32m-> 1040\u001b[0;31m         \u001b[0;32mreturn\u001b[0m \u001b[0mmapping\u001b[0m\u001b[0;34m[\u001b[0m\u001b[0mengine\u001b[0m\u001b[0;34m]\u001b[0m\u001b[0;34m(\u001b[0m\u001b[0mself\u001b[0m\u001b[0;34m.\u001b[0m\u001b[0mf\u001b[0m\u001b[0;34m,\u001b[0m \u001b[0;34m**\u001b[0m\u001b[0mself\u001b[0m\u001b[0;34m.\u001b[0m\u001b[0moptions\u001b[0m\u001b[0;34m)\u001b[0m  \u001b[0;31m# type: ignore[call-arg]\u001b[0m\u001b[0;34m\u001b[0m\u001b[0;34m\u001b[0m\u001b[0m\n\u001b[0m\u001b[1;32m   1041\u001b[0m \u001b[0;34m\u001b[0m\u001b[0m\n\u001b[1;32m   1042\u001b[0m     \u001b[0;32mdef\u001b[0m \u001b[0m_failover_to_python\u001b[0m\u001b[0;34m(\u001b[0m\u001b[0mself\u001b[0m\u001b[0;34m)\u001b[0m\u001b[0;34m:\u001b[0m\u001b[0;34m\u001b[0m\u001b[0;34m\u001b[0m\u001b[0m\n",
            "\u001b[0;32m/usr/local/lib/python3.7/dist-packages/pandas/io/parsers/c_parser_wrapper.py\u001b[0m in \u001b[0;36m__init__\u001b[0;34m(self, src, **kwds)\u001b[0m\n\u001b[1;32m     49\u001b[0m \u001b[0;34m\u001b[0m\u001b[0m\n\u001b[1;32m     50\u001b[0m         \u001b[0;31m# open handles\u001b[0m\u001b[0;34m\u001b[0m\u001b[0;34m\u001b[0m\u001b[0;34m\u001b[0m\u001b[0m\n\u001b[0;32m---> 51\u001b[0;31m         \u001b[0mself\u001b[0m\u001b[0;34m.\u001b[0m\u001b[0m_open_handles\u001b[0m\u001b[0;34m(\u001b[0m\u001b[0msrc\u001b[0m\u001b[0;34m,\u001b[0m \u001b[0mkwds\u001b[0m\u001b[0;34m)\u001b[0m\u001b[0;34m\u001b[0m\u001b[0;34m\u001b[0m\u001b[0m\n\u001b[0m\u001b[1;32m     52\u001b[0m         \u001b[0;32massert\u001b[0m \u001b[0mself\u001b[0m\u001b[0;34m.\u001b[0m\u001b[0mhandles\u001b[0m \u001b[0;32mis\u001b[0m \u001b[0;32mnot\u001b[0m \u001b[0;32mNone\u001b[0m\u001b[0;34m\u001b[0m\u001b[0;34m\u001b[0m\u001b[0m\n\u001b[1;32m     53\u001b[0m \u001b[0;34m\u001b[0m\u001b[0m\n",
            "\u001b[0;32m/usr/local/lib/python3.7/dist-packages/pandas/io/parsers/base_parser.py\u001b[0m in \u001b[0;36m_open_handles\u001b[0;34m(self, src, kwds)\u001b[0m\n\u001b[1;32m    227\u001b[0m             \u001b[0mmemory_map\u001b[0m\u001b[0;34m=\u001b[0m\u001b[0mkwds\u001b[0m\u001b[0;34m.\u001b[0m\u001b[0mget\u001b[0m\u001b[0;34m(\u001b[0m\u001b[0;34m\"memory_map\"\u001b[0m\u001b[0;34m,\u001b[0m \u001b[0;32mFalse\u001b[0m\u001b[0;34m)\u001b[0m\u001b[0;34m,\u001b[0m\u001b[0;34m\u001b[0m\u001b[0;34m\u001b[0m\u001b[0m\n\u001b[1;32m    228\u001b[0m             \u001b[0mstorage_options\u001b[0m\u001b[0;34m=\u001b[0m\u001b[0mkwds\u001b[0m\u001b[0;34m.\u001b[0m\u001b[0mget\u001b[0m\u001b[0;34m(\u001b[0m\u001b[0;34m\"storage_options\"\u001b[0m\u001b[0;34m,\u001b[0m \u001b[0;32mNone\u001b[0m\u001b[0;34m)\u001b[0m\u001b[0;34m,\u001b[0m\u001b[0;34m\u001b[0m\u001b[0;34m\u001b[0m\u001b[0m\n\u001b[0;32m--> 229\u001b[0;31m             \u001b[0merrors\u001b[0m\u001b[0;34m=\u001b[0m\u001b[0mkwds\u001b[0m\u001b[0;34m.\u001b[0m\u001b[0mget\u001b[0m\u001b[0;34m(\u001b[0m\u001b[0;34m\"encoding_errors\"\u001b[0m\u001b[0;34m,\u001b[0m \u001b[0;34m\"strict\"\u001b[0m\u001b[0;34m)\u001b[0m\u001b[0;34m,\u001b[0m\u001b[0;34m\u001b[0m\u001b[0;34m\u001b[0m\u001b[0m\n\u001b[0m\u001b[1;32m    230\u001b[0m         )\n\u001b[1;32m    231\u001b[0m \u001b[0;34m\u001b[0m\u001b[0m\n",
            "\u001b[0;32m/usr/local/lib/python3.7/dist-packages/pandas/io/common.py\u001b[0m in \u001b[0;36mget_handle\u001b[0;34m(path_or_buf, mode, encoding, compression, memory_map, is_text, errors, storage_options)\u001b[0m\n\u001b[1;32m    705\u001b[0m                 \u001b[0mencoding\u001b[0m\u001b[0;34m=\u001b[0m\u001b[0mioargs\u001b[0m\u001b[0;34m.\u001b[0m\u001b[0mencoding\u001b[0m\u001b[0;34m,\u001b[0m\u001b[0;34m\u001b[0m\u001b[0;34m\u001b[0m\u001b[0m\n\u001b[1;32m    706\u001b[0m                 \u001b[0merrors\u001b[0m\u001b[0;34m=\u001b[0m\u001b[0merrors\u001b[0m\u001b[0;34m,\u001b[0m\u001b[0;34m\u001b[0m\u001b[0;34m\u001b[0m\u001b[0m\n\u001b[0;32m--> 707\u001b[0;31m                 \u001b[0mnewline\u001b[0m\u001b[0;34m=\u001b[0m\u001b[0;34m\"\"\u001b[0m\u001b[0;34m,\u001b[0m\u001b[0;34m\u001b[0m\u001b[0;34m\u001b[0m\u001b[0m\n\u001b[0m\u001b[1;32m    708\u001b[0m             )\n\u001b[1;32m    709\u001b[0m         \u001b[0;32melse\u001b[0m\u001b[0;34m:\u001b[0m\u001b[0;34m\u001b[0m\u001b[0;34m\u001b[0m\u001b[0m\n",
            "\u001b[0;31mFileNotFoundError\u001b[0m: [Errno 2] No such file or directory: '/content/gdrive/My Drive/dataset/Fitur_Wavelet_1234_Cassava Leaf.csv'"
          ]
        }
      ],
      "source": [
        "import pandas as pd\n",
        "\n",
        "df = pd.read_csv('/content/gdrive/My Drive/dataset/Fitur_Wavelet_1234_Cassava Leaf.csv')\n",
        "df.head()"
      ]
    },
    {
      "cell_type": "code",
      "execution_count": null,
      "metadata": {
        "colab": {
          "base_uri": "https://localhost:8080/"
        },
        "id": "QxPDXYyt9uxd",
        "outputId": "e368cabe-d51d-41b2-9639-48bc057d78a1"
      },
      "outputs": [
        {
          "data": {
            "text/plain": [
              "(2704839, 50)"
            ]
          },
          "execution_count": 3,
          "metadata": {},
          "output_type": "execute_result"
        }
      ],
      "source": [
        "df.shape"
      ]
    },
    {
      "cell_type": "code",
      "execution_count": null,
      "metadata": {
        "colab": {
          "base_uri": "https://localhost:8080/"
        },
        "id": "F_DQHdQB9whJ",
        "outputId": "4e0fcbb6-afde-419a-b3f2-2020567351fb"
      },
      "outputs": [
        {
          "output_type": "stream",
          "name": "stdout",
          "text": [
            "<class 'pandas.core.frame.DataFrame'>\n",
            "RangeIndex: 2704839 entries, 0 to 2704838\n",
            "Data columns (total 50 columns):\n",
            " #   Column                Dtype  \n",
            "---  ------                -----  \n",
            " 0   flow_key              object \n",
            " 1   src_ip_numeric        int64  \n",
            " 2   src_ip                object \n",
            " 3   src_port              int64  \n",
            " 4   dst_ip                object \n",
            " 5   dst_port              int64  \n",
            " 6   proto                 int64  \n",
            " 7   pktTotalCount         int64  \n",
            " 8   octetTotalCount       int64  \n",
            " 9   min_ps                int64  \n",
            " 10  max_ps                int64  \n",
            " 11  avg_ps                float64\n",
            " 12  std_dev_ps            float64\n",
            " 13  flowStart             float64\n",
            " 14  flowEnd               float64\n",
            " 15  flowDuration          float64\n",
            " 16  min_piat              float64\n",
            " 17  max_piat              float64\n",
            " 18  avg_piat              float64\n",
            " 19  std_dev_piat          float64\n",
            " 20  f_pktTotalCount       int64  \n",
            " 21  f_octetTotalCount     int64  \n",
            " 22  f_min_ps              int64  \n",
            " 23  f_max_ps              int64  \n",
            " 24  f_avg_ps              float64\n",
            " 25  f_std_dev_ps          float64\n",
            " 26  f_flowStart           float64\n",
            " 27  f_flowEnd             float64\n",
            " 28  f_flowDuration        float64\n",
            " 29  f_min_piat            float64\n",
            " 30  f_max_piat            float64\n",
            " 31  f_avg_piat            float64\n",
            " 32  f_std_dev_piat        float64\n",
            " 33  b_pktTotalCount       int64  \n",
            " 34  b_octetTotalCount     int64  \n",
            " 35  b_min_ps              int64  \n",
            " 36  b_max_ps              int64  \n",
            " 37  b_avg_ps              float64\n",
            " 38  b_std_dev_ps          float64\n",
            " 39  b_flowStart           float64\n",
            " 40  b_flowEnd             float64\n",
            " 41  b_flowDuration        float64\n",
            " 42  b_min_piat            float64\n",
            " 43  b_max_piat            float64\n",
            " 44  b_avg_piat            float64\n",
            " 45  b_std_dev_piat        float64\n",
            " 46  flowEndReason         int64  \n",
            " 47  category              object \n",
            " 48  application_protocol  object \n",
            " 49  web_service           object \n",
            "dtypes: float64(27), int64(17), object(6)\n",
            "memory usage: 1.0+ GB\n"
          ]
        }
      ],
      "source": [
        "df.info()"
      ]
    },
    {
      "cell_type": "code",
      "execution_count": null,
      "metadata": {
        "colab": {
          "base_uri": "https://localhost:8080/"
        },
        "id": "2mcM8I0s_Oyx",
        "outputId": "c55ff18e-0303-42dd-f1fa-af57db6d6db3"
      },
      "outputs": [
        {
          "output_type": "execute_result",
          "data": {
            "text/plain": [
              "Web                                  1416159\n",
              "Network                               443446\n",
              "Unspecified                           249071\n",
              "SocialNetwork                         150941\n",
              "Chat                                   75532\n",
              "Download-FileTransfer-FileSharing      70830\n",
              "Media                                  63901\n",
              "Cloud                                  50465\n",
              "VoIP                                   47010\n",
              "Collaborative                          39037\n",
              "System                                 36951\n",
              "Email                                  22708\n",
              "SoftwareUpdate                         16500\n",
              "Video                                   7844\n",
              "Music                                   3545\n",
              "RemoteAccess                            3351\n",
              "Game                                    2856\n",
              "RPC                                     2205\n",
              "Database                                 812\n",
              "Streaming                                714\n",
              "VPN                                      536\n",
              "Shopping                                 237\n",
              "Mining                                   180\n",
              "DataTransfer                               8\n",
              "Name: category, dtype: int64"
            ]
          },
          "metadata": {},
          "execution_count": 4
        }
      ],
      "source": [
        "df['category'].value_counts()"
      ]
    },
    {
      "cell_type": "code",
      "execution_count": null,
      "metadata": {
        "colab": {
          "base_uri": "https://localhost:8080/"
        },
        "id": "h23R26BF_vLq",
        "outputId": "ba9cd1c9-6f1a-4c5a-dfb8-407e2bb65863"
      },
      "outputs": [
        {
          "output_type": "execute_result",
          "data": {
            "text/plain": [
              "Google       569828\n",
              "DNS          419915\n",
              "TLS          259590\n",
              "Unknown      249071\n",
              "Microsoft    172392\n",
              "              ...  \n",
              "Zoom              1\n",
              "BGP               1\n",
              "MDNS              1\n",
              "SOMEIP            1\n",
              "GTP               1\n",
              "Name: web_service, Length: 141, dtype: int64"
            ]
          },
          "metadata": {},
          "execution_count": 5
        }
      ],
      "source": [
        "df['web_service'].value_counts()"
      ]
    },
    {
      "cell_type": "markdown",
      "metadata": {
        "id": "R6umnG6pY4HY"
      },
      "source": [
        "# 2.Data Prepocessing"
      ]
    },
    {
      "cell_type": "code",
      "execution_count": null,
      "metadata": {
        "colab": {
          "base_uri": "https://localhost:8080/"
        },
        "id": "0QtT-URhALEq",
        "outputId": "f870ff24-da82-4948-a01f-bba851c2f96d"
      },
      "outputs": [
        {
          "output_type": "execute_result",
          "data": {
            "text/plain": [
              "flow_key                0\n",
              "src_ip_numeric          0\n",
              "src_ip                  0\n",
              "src_port                0\n",
              "dst_ip                  0\n",
              "dst_port                0\n",
              "proto                   0\n",
              "pktTotalCount           0\n",
              "octetTotalCount         0\n",
              "min_ps                  0\n",
              "max_ps                  0\n",
              "avg_ps                  0\n",
              "std_dev_ps              0\n",
              "flowStart               0\n",
              "flowEnd                 0\n",
              "flowDuration            0\n",
              "min_piat                0\n",
              "max_piat                0\n",
              "avg_piat                0\n",
              "std_dev_piat            0\n",
              "f_pktTotalCount         0\n",
              "f_octetTotalCount       0\n",
              "f_min_ps                0\n",
              "f_max_ps                0\n",
              "f_avg_ps                0\n",
              "f_std_dev_ps            0\n",
              "f_flowStart             0\n",
              "f_flowEnd               0\n",
              "f_flowDuration          0\n",
              "f_min_piat              0\n",
              "f_max_piat              0\n",
              "f_avg_piat              0\n",
              "f_std_dev_piat          0\n",
              "b_pktTotalCount         0\n",
              "b_octetTotalCount       0\n",
              "b_min_ps                0\n",
              "b_max_ps                0\n",
              "b_avg_ps                0\n",
              "b_std_dev_ps            0\n",
              "b_flowStart             0\n",
              "b_flowEnd               0\n",
              "b_flowDuration          0\n",
              "b_min_piat              0\n",
              "b_max_piat              0\n",
              "b_avg_piat              0\n",
              "b_std_dev_piat          0\n",
              "flowEndReason           0\n",
              "category                0\n",
              "application_protocol    0\n",
              "web_service             0\n",
              "dtype: int64"
            ]
          },
          "metadata": {},
          "execution_count": 6
        }
      ],
      "source": [
        "#check null\n",
        "df.isnull().sum()"
      ]
    },
    {
      "cell_type": "code",
      "execution_count": null,
      "metadata": {
        "colab": {
          "base_uri": "https://localhost:8080/"
        },
        "id": "YFwBf-4IZ3PT",
        "outputId": "6ed68277-9028-43cd-8e6f-57e5a7ada268"
      },
      "outputs": [
        {
          "output_type": "stream",
          "name": "stdout",
          "text": [
            "Number of duplicate rows = 10\n"
          ]
        }
      ],
      "source": [
        "#check duplicate\n",
        "dups = df.duplicated()\n",
        "print('Number of duplicate rows = %d' % (dups.sum()))"
      ]
    },
    {
      "cell_type": "code",
      "execution_count": null,
      "metadata": {
        "colab": {
          "base_uri": "https://localhost:8080/"
        },
        "id": "mHmq7WFmaSO_",
        "outputId": "a9c85e65-1135-4c6f-e8a5-c88e5a8280b4"
      },
      "outputs": [
        {
          "output_type": "stream",
          "name": "stdout",
          "text": [
            "Number of rows before discarding duplicates = 2704839\n",
            "Number of rows after discarding duplicates = 2704829\n"
          ]
        }
      ],
      "source": [
        "#remove duplicate\n",
        "print('Number of rows before discarding duplicates = %d' % (df.shape[0]))\n",
        "data2 = df.drop_duplicates()\n",
        "print('Number of rows after discarding duplicates = %d' % (data2.shape[0]))"
      ]
    },
    {
      "cell_type": "code",
      "execution_count": null,
      "metadata": {
        "colab": {
          "base_uri": "https://localhost:8080/",
          "height": 183
        },
        "id": "_GwwsaTIb9iU",
        "outputId": "ed19deab-3282-43b7-c110-545a4eeb632a"
      },
      "outputs": [
        {
          "output_type": "execute_result",
          "data": {
            "text/plain": [
              "<matplotlib.axes._subplots.AxesSubplot at 0x7f7206326a90>"
            ]
          },
          "metadata": {},
          "execution_count": 9
        },
        {
          "output_type": "display_data",
          "data": {
            "text/plain": [
              "<Figure size 1440x216 with 1 Axes>"
            ],
            "image/png": "[encoded data removed]"
          },
          "metadata": {
            "needs_background": "light"
          }
        }
      ],
      "source": [
        "#check Outliers\n",
        "import matplotlib.pyplot as plt\n",
        "data2.boxplot(figsize=(20,3))"
      ]
    },
    {
      "cell_type": "code",
      "execution_count": null,
      "metadata": {
        "colab": {
          "base_uri": "https://localhost:8080/"
        },
        "id": "vEcbuljqeSKR",
        "outputId": "c9ea0df1-165d-4e6e-d737-fd955ec8bbb3"
      },
      "outputs": [
        {
          "output_type": "stream",
          "name": "stdout",
          "text": [
            "Looking in indexes: https://pypi.org/simple, https://us-python.pkg.dev/colab-wheels/public/simple/\n",
            "Collecting category_encoders\n",
            "  Downloading category_encoders-2.5.1.post0-py2.py3-none-any.whl (72 kB)\n",
            "\u001b[K     |████████████████████████████████| 72 kB 484 kB/s \n",
            "\u001b[?25hRequirement already satisfied: scipy>=1.0.0 in /usr/local/lib/python3.7/dist-packages (from category_encoders) (1.7.3)\n",
            "Requirement already satisfied: scikit-learn>=0.20.0 in /usr/local/lib/python3.7/dist-packages (from category_encoders) (1.0.2)\n",
            "Requirement already satisfied: patsy>=0.5.1 in /usr/local/lib/python3.7/dist-packages (from category_encoders) (0.5.3)\n",
            "Requirement already satisfied: statsmodels>=0.9.0 in /usr/local/lib/python3.7/dist-packages (from category_encoders) (0.12.2)\n",
            "Requirement already satisfied: numpy>=1.14.0 in /usr/local/lib/python3.7/dist-packages (from category_encoders) (1.21.6)\n",
            "Requirement already satisfied: pandas>=1.0.5 in /usr/local/lib/python3.7/dist-packages (from category_encoders) (1.3.5)\n",
            "Requirement already satisfied: python-dateutil>=2.7.3 in /usr/local/lib/python3.7/dist-packages (from pandas>=1.0.5->category_encoders) (2.8.2)\n",
            "Requirement already satisfied: pytz>=2017.3 in /usr/local/lib/python3.7/dist-packages (from pandas>=1.0.5->category_encoders) (2022.4)\n",
            "Requirement already satisfied: six in /usr/local/lib/python3.7/dist-packages (from patsy>=0.5.1->category_encoders) (1.15.0)\n",
            "Requirement already satisfied: joblib>=0.11 in /usr/local/lib/python3.7/dist-packages (from scikit-learn>=0.20.0->category_encoders) (1.2.0)\n",
            "Requirement already satisfied: threadpoolctl>=2.0.0 in /usr/local/lib/python3.7/dist-packages (from scikit-learn>=0.20.0->category_encoders) (3.1.0)\n",
            "Installing collected packages: category-encoders\n",
            "Successfully installed category-encoders-2.5.1.post0\n"
          ]
        }
      ],
      "source": [
        "!pip install category_encoders"
      ]
    },
    {
      "cell_type": "code",
      "execution_count": null,
      "metadata": {
        "id": "j59q4lLkepWF"
      },
      "outputs": [],
      "source": [
        "import category_encoders as ce\n",
        "encoder = ce.OrdinalEncoder(cols=['flow_key', 'src_ip', 'dst_ip', 'application_protocol', 'web_service','category'])\n",
        "\n",
        "X_train = encoder.fit_transform(data2)"
      ]
    },
    {
      "cell_type": "code",
      "execution_count": null,
      "metadata": {
        "colab": {
          "base_uri": "https://localhost:8080/",
          "height": 299
        },
        "id": "rbeuQONxfGQ-",
        "outputId": "ec8a9981-cc6c-46cf-d2f7-d660acb686dd"
      },
      "outputs": [
        {
          "output_type": "execute_result",
          "data": {
            "text/plain": [
              "   flow_key  src_ip_numeric  src_ip  src_port  dst_ip  dst_port  proto  \\\n",
              "0         1      3232266497       1        67       1        67     17   \n",
              "1         2      3232266497       1        67       2        67     17   \n",
              "2         1      3232266497       1        67       1        67     17   \n",
              "3         2      3232266497       1        67       2        67     17   \n",
              "4         3      3232266497       1         0       3         0      1   \n",
              "\n",
              "   pktTotalCount  octetTotalCount  min_ps  ...     b_flowEnd  b_flowDuration  \\\n",
              "0             22             7620     328  ...  1.555955e+09    1.554399e+12   \n",
              "1             17             5670     328  ...  0.000000e+00    0.000000e+00   \n",
              "2             43            15124     328  ...  1.555965e+09    1.554409e+12   \n",
              "3             30            10086     328  ...  0.000000e+00    0.000000e+00   \n",
              "4              1               56      56  ...  0.000000e+00    0.000000e+00   \n",
              "\n",
              "   b_min_piat  b_max_piat  b_avg_piat  b_std_dev_piat  flowEndReason  \\\n",
              "0    0.010354  198.657965   51.689181       84.916348              2   \n",
              "1    0.000000    0.000000    0.000000        0.000000              2   \n",
              "2    0.022332  340.268454   89.927588      124.270745              2   \n",
              "3    0.000000    0.000000    0.000000        0.000000              2   \n",
              "4    0.000000    0.000000    0.000000        0.000000              2   \n",
              "\n",
              "   category  application_protocol  web_service  \n",
              "0         1                     1            1  \n",
              "1         1                     1            1  \n",
              "2         1                     1            1  \n",
              "3         1                     1            1  \n",
              "4         1                     1            2  \n",
              "\n",
              "[5 rows x 50 columns]"
            ],
            "text/html": [
              "\n",
              "  <div id=\"df-405d14ef-88b3-4fdb-ac6a-bdd0b8411ad2\">\n",
              "    <div class=\"colab-df-container\">\n",
              "      <div>\n",
              "<style scoped>\n",
              "    .dataframe tbody tr th:only-of-type {\n",
              "        vertical-align: middle;\n",
              "    }\n",
              "\n",
              "    .dataframe tbody tr th {\n",
              "        vertical-align: top;\n",
              "    }\n",
              "\n",
              "    .dataframe thead th {\n",
              "        text-align: right;\n",
              "    }\n",
              "</style>\n",
              "<table border=\"1\" class=\"dataframe\">\n",
              "  <thead>\n",
              "    <tr style=\"text-align: right;\">\n",
              "      <th></th>\n",
              "      <th>flow_key</th>\n",
              "      <th>src_ip_numeric</th>\n",
              "      <th>src_ip</th>\n",
              "      <th>src_port</th>\n",
              "      <th>dst_ip</th>\n",
              "      <th>dst_port</th>\n",
              "      <th>proto</th>\n",
              "      <th>pktTotalCount</th>\n",
              "      <th>octetTotalCount</th>\n",
              "      <th>min_ps</th>\n",
              "      <th>...</th>\n",
              "      <th>b_flowEnd</th>\n",
              "      <th>b_flowDuration</th>\n",
              "      <th>b_min_piat</th>\n",
              "      <th>b_max_piat</th>\n",
              "      <th>b_avg_piat</th>\n",
              "      <th>b_std_dev_piat</th>\n",
              "      <th>flowEndReason</th>\n",
              "      <th>category</th>\n",
              "      <th>application_protocol</th>\n",
              "      <th>web_service</th>\n",
              "    </tr>\n",
              "  </thead>\n",
              "  <tbody>\n",
              "    <tr>\n",
              "      <th>0</th>\n",
              "      <td>1</td>\n",
              "      <td>3232266497</td>\n",
              "      <td>1</td>\n",
              "      <td>67</td>\n",
              "      <td>1</td>\n",
              "      <td>67</td>\n",
              "      <td>17</td>\n",
              "      <td>22</td>\n",
              "      <td>7620</td>\n",
              "      <td>328</td>\n",
              "      <td>...</td>\n",
              "      <td>1.555955e+09</td>\n",
              "      <td>1.554399e+12</td>\n",
              "      <td>0.010354</td>\n",
              "      <td>198.657965</td>\n",
              "      <td>51.689181</td>\n",
              "      <td>84.916348</td>\n",
              "      <td>2</td>\n",
              "      <td>1</td>\n",
              "      <td>1</td>\n",
              "      <td>1</td>\n",
              "    </tr>\n",
              "    <tr>\n",
              "      <th>1</th>\n",
              "      <td>2</td>\n",
              "      <td>3232266497</td>\n",
              "      <td>1</td>\n",
              "      <td>67</td>\n",
              "      <td>2</td>\n",
              "      <td>67</td>\n",
              "      <td>17</td>\n",
              "      <td>17</td>\n",
              "      <td>5670</td>\n",
              "      <td>328</td>\n",
              "      <td>...</td>\n",
              "      <td>0.000000e+00</td>\n",
              "      <td>0.000000e+00</td>\n",
              "      <td>0.000000</td>\n",
              "      <td>0.000000</td>\n",
              "      <td>0.000000</td>\n",
              "      <td>0.000000</td>\n",
              "      <td>2</td>\n",
              "      <td>1</td>\n",
              "      <td>1</td>\n",
              "      <td>1</td>\n",
              "    </tr>\n",
              "    <tr>\n",
              "      <th>2</th>\n",
              "      <td>1</td>\n",
              "      <td>3232266497</td>\n",
              "      <td>1</td>\n",
              "      <td>67</td>\n",
              "      <td>1</td>\n",
              "      <td>67</td>\n",
              "      <td>17</td>\n",
              "      <td>43</td>\n",
              "      <td>15124</td>\n",
              "      <td>328</td>\n",
              "      <td>...</td>\n",
              "      <td>1.555965e+09</td>\n",
              "      <td>1.554409e+12</td>\n",
              "      <td>0.022332</td>\n",
              "      <td>340.268454</td>\n",
              "      <td>89.927588</td>\n",
              "      <td>124.270745</td>\n",
              "      <td>2</td>\n",
              "      <td>1</td>\n",
              "      <td>1</td>\n",
              "      <td>1</td>\n",
              "    </tr>\n",
              "    <tr>\n",
              "      <th>3</th>\n",
              "      <td>2</td>\n",
              "      <td>3232266497</td>\n",
              "      <td>1</td>\n",
              "      <td>67</td>\n",
              "      <td>2</td>\n",
              "      <td>67</td>\n",
              "      <td>17</td>\n",
              "      <td>30</td>\n",
              "      <td>10086</td>\n",
              "      <td>328</td>\n",
              "      <td>...</td>\n",
              "      <td>0.000000e+00</td>\n",
              "      <td>0.000000e+00</td>\n",
              "      <td>0.000000</td>\n",
              "      <td>0.000000</td>\n",
              "      <td>0.000000</td>\n",
              "      <td>0.000000</td>\n",
              "      <td>2</td>\n",
              "      <td>1</td>\n",
              "      <td>1</td>\n",
              "      <td>1</td>\n",
              "    </tr>\n",
              "    <tr>\n",
              "      <th>4</th>\n",
              "      <td>3</td>\n",
              "      <td>3232266497</td>\n",
              "      <td>1</td>\n",
              "      <td>0</td>\n",
              "      <td>3</td>\n",
              "      <td>0</td>\n",
              "      <td>1</td>\n",
              "      <td>1</td>\n",
              "      <td>56</td>\n",
              "      <td>56</td>\n",
              "      <td>...</td>\n",
              "      <td>0.000000e+00</td>\n",
              "      <td>0.000000e+00</td>\n",
              "      <td>0.000000</td>\n",
              "      <td>0.000000</td>\n",
              "      <td>0.000000</td>\n",
              "      <td>0.000000</td>\n",
              "      <td>2</td>\n",
              "      <td>1</td>\n",
              "      <td>1</td>\n",
              "      <td>2</td>\n",
              "    </tr>\n",
              "  </tbody>\n",
              "</table>\n",
              "<p>5 rows × 50 columns</p>\n",
              "</div>\n",
              "      <button class=\"colab-df-convert\" onclick=\"convertToInteractive('df-405d14ef-88b3-4fdb-ac6a-bdd0b8411ad2')\"\n",
              "              title=\"Convert this dataframe to an interactive table.\"\n",
              "              style=\"display:none;\">\n",
              "        \n",
              "  <svg xmlns=\"http://www.w3.org/2000/svg\" height=\"24px\"viewBox=\"0 0 24 24\"\n",
              "       width=\"24px\">\n",
              "    <path d=\"M0 0h24v24H0V0z\" fill=\"none\"/>\n",
              "    <path d=\"M18.56 5.44l.94 2.06.94-2.06 2.06-.94-2.06-.94-.94-2.06-.94 2.06-2.06.94zm-11 1L8.5 8.5l.94-2.06 2.06-.94-2.06-.94L8.5 2.5l-.94 2.06-2.06.94zm10 10l.94 2.06.94-2.06 2.06-.94-2.06-.94-.94-2.06-.94 2.06-2.06.94z\"/><path d=\"M17.41 7.96l-1.37-1.37c-.4-.4-.92-.59-1.43-.59-.52 0-1.04.2-1.43.59L10.3 9.45l-7.72 7.72c-.78.78-.78 2.05 0 2.83L4 21.41c.39.39.9.59 1.41.59.51 0 1.02-.2 1.41-.59l7.78-7.78 2.81-2.81c.8-.78.8-2.07 0-2.86zM5.41 20L4 18.59l7.72-7.72 1.47 1.35L5.41 20z\"/>\n",
              "  </svg>\n",
              "      </button>\n",
              "      \n",
              "  <style>\n",
              "    .colab-df-container {\n",
              "      display:flex;\n",
              "      flex-wrap:wrap;\n",
              "      gap: 12px;\n",
              "    }\n",
              "\n",
              "    .colab-df-convert {\n",
              "      background-color: #E8F0FE;\n",
              "      border: none;\n",
              "      border-radius: 50%;\n",
              "      cursor: pointer;\n",
              "      display: none;\n",
              "      fill: #1967D2;\n",
              "      height: 32px;\n",
              "      padding: 0 0 0 0;\n",
              "      width: 32px;\n",
              "    }\n",
              "\n",
              "    .colab-df-convert:hover {\n",
              "      background-color: #E2EBFA;\n",
              "      box-shadow: 0px 1px 2px rgba(60, 64, 67, 0.3), 0px 1px 3px 1px rgba(60, 64, 67, 0.15);\n",
              "      fill: #174EA6;\n",
              "    }\n",
              "\n",
              "    [theme=dark] .colab-df-convert {\n",
              "      background-color: #3B4455;\n",
              "      fill: #D2E3FC;\n",
              "    }\n",
              "\n",
              "    [theme=dark] .colab-df-convert:hover {\n",
              "      background-color: #434B5C;\n",
              "      box-shadow: 0px 1px 3px 1px rgba(0, 0, 0, 0.15);\n",
              "      filter: drop-shadow(0px 1px 2px rgba(0, 0, 0, 0.3));\n",
              "      fill: #FFFFFF;\n",
              "    }\n",
              "  </style>\n",
              "\n",
              "      <script>\n",
              "        const buttonEl =\n",
              "          document.querySelector('#df-405d14ef-88b3-4fdb-ac6a-bdd0b8411ad2 button.colab-df-convert');\n",
              "        buttonEl.style.display =\n",
              "          google.colab.kernel.accessAllowed ? 'block' : 'none';\n",
              "\n",
              "        async function convertToInteractive(key) {\n",
              "          const element = document.querySelector('#df-405d14ef-88b3-4fdb-ac6a-bdd0b8411ad2');\n",
              "          const dataTable =\n",
              "            await google.colab.kernel.invokeFunction('convertToInteractive',\n",
              "                                                     [key], {});\n",
              "          if (!dataTable) return;\n",
              "\n",
              "          const docLinkHtml = 'Like what you see? Visit the ' +\n",
              "            '<a target=\"_blank\" href=https://colab.research.google.com/notebooks/data_table.ipynb>data table notebook</a>'\n",
              "            + ' to learn more about interactive tables.';\n",
              "          element.innerHTML = '';\n",
              "          dataTable['output_type'] = 'display_data';\n",
              "          await google.colab.output.renderOutput(dataTable, element);\n",
              "          const docLink = document.createElement('div');\n",
              "          docLink.innerHTML = docLinkHtml;\n",
              "          element.appendChild(docLink);\n",
              "        }\n",
              "      </script>\n",
              "    </div>\n",
              "  </div>\n",
              "  "
            ]
          },
          "metadata": {},
          "execution_count": 12
        }
      ],
      "source": [
        "X_train.head()"
      ]
    },
    {
      "cell_type": "code",
      "execution_count": null,
      "metadata": {
        "colab": {
          "base_uri": "https://localhost:8080/"
        },
        "id": "_m6o7aDXdzUf",
        "outputId": "032083a3-680c-4c17-8e20-5670ae2e3d38"
      },
      "outputs": [
        {
          "data": {
            "text/plain": [
              "array([[-1.69242385e+00, -1.58631259e+00, -1.53435990e+00, ...,\n",
              "        -7.01920389e-01, -9.27163202e-01, -1.04771762e+00],\n",
              "       [-1.69242237e+00, -1.58631259e+00, -1.53435990e+00, ...,\n",
              "        -7.01920389e-01, -9.27163202e-01, -1.04771762e+00],\n",
              "       [-1.69242385e+00, -1.58631259e+00, -1.53435990e+00, ...,\n",
              "        -7.01920389e-01, -9.27163202e-01, -1.04771762e+00],\n",
              "       ...,\n",
              "       [-1.37072708e+00,  1.26859937e+00,  7.38353266e-01, ...,\n",
              "         3.76387913e-01, -9.27163202e-01, -4.19544734e-01],\n",
              "       [ 1.75815885e+00,  1.26859937e+00,  7.38353266e-01, ...,\n",
              "        -4.86258728e-01, -9.27163202e-01, -7.62809311e-04],\n",
              "       [ 1.75816033e+00,  1.26859937e+00,  7.38353266e-01, ...,\n",
              "        -4.86258728e-01, -9.27163202e-01, -7.62809311e-04]])"
            ]
          },
          "execution_count": 15,
          "metadata": {},
          "output_type": "execute_result"
        }
      ],
      "source": []
    },
    {
      "cell_type": "markdown",
      "metadata": {
        "id": "eoqn2cFDgtNc"
      },
      "source": [
        "# 3.Data Exploration"
      ]
    },
    {
      "cell_type": "code",
      "execution_count": null,
      "metadata": {
        "id": "vd4FDatmfQpN"
      },
      "outputs": [],
      "source": [
        "import matplotlib.pyplot as plt # plotting\n",
        "import numpy as np\n",
        "# Distribution graphs (histogram/bar graph) of column data\n",
        "def plotPerColumnDistribution(df, nGraphShown, nGraphPerRow):\n",
        "    nunique = df.nunique()\n",
        "    df = df[[col for col in df if nunique[col] > 1 and nunique[col] < 50]] # For displaying purposes, pick columns that have between 1 and 50 unique values\n",
        "    nRow, nCol = df.shape\n",
        "    columnNames = list(df)\n",
        "    nGraphRow = (nCol + nGraphPerRow - 1) / nGraphPerRow\n",
        "    plt.figure(num = None, figsize = (6 * nGraphPerRow, 8 * nGraphRow), dpi = 80, facecolor = 'w', edgecolor = 'k')\n",
        "    for i in range(min(nCol, nGraphShown)):\n",
        "        plt.subplot(nGraphRow, nGraphPerRow, i + 1)\n",
        "        columnDf = df.iloc[:, i]\n",
        "        if (not np.issubdtype(type(columnDf.iloc[0]), np.number)):\n",
        "            valueCounts = columnDf.value_counts()\n",
        "            valueCounts.plot.bar()\n",
        "        else:\n",
        "            columnDf.hist()\n",
        "        plt.ylabel('counts')\n",
        "        plt.xticks(rotation = 90)\n",
        "        plt.title(f'{columnNames[i]} (column {i})')\n",
        "    plt.tight_layout(pad = 1.0, w_pad = 1.0, h_pad = 1.0)\n",
        "    plt.show()\n",
        "\n",
        ""
      ]
    },
    {
      "cell_type": "code",
      "execution_count": null,
      "metadata": {
        "colab": {
          "base_uri": "https://localhost:8080/",
          "height": 472
        },
        "id": "xvGNmiNp9g6R",
        "outputId": "5a0b7947-2285-40f0-f8d6-d6f197b59aed"
      },
      "outputs": [
        {
          "output_type": "display_data",
          "data": {
            "text/plain": [
              "<Figure size 2400x1024 with 4 Axes>"
            ],
            "image/png": "[encoded data removed]"
          },
          "metadata": {}
        }
      ],
      "source": [
        "plotPerColumnDistribution(data2, 10, 5)"
      ]
    },
    {
      "cell_type": "code",
      "execution_count": null,
      "metadata": {
        "id": "u6IAQppR_hQ0"
      },
      "outputs": [],
      "source": [
        "def plotScatterMatrix(df, plotSize, textSize):\n",
        "    df = df.select_dtypes(include =[np.number]) # keep only numerical columns\n",
        "    # Remove rows and columns that would lead to df being singular\n",
        "    df = df.dropna('columns')\n",
        "    df = df[[col for col in df if df[col].nunique() > 1]] # keep columns where there are more than 1 unique values\n",
        "    columnNames = list(df)\n",
        "    if len(columnNames) > 10: # reduce the number of columns for matrix inversion of kernel density plots\n",
        "        columnNames = columnNames[:10]\n",
        "    df = df[columnNames]\n",
        "    ax = pd.plotting.scatter_matrix(df, alpha=0.75, figsize=[plotSize, plotSize], diagonal='kde')\n",
        "    corrs = df.corr().values\n",
        "    for i, j in zip(*plt.np.triu_indices_from(ax, k = 1)):\n",
        "        ax[i, j].annotate('Corr. coef = %.3f' % corrs[i, j], (0.8, 0.2), xycoords='axes fraction', ha='center', va='center', size=textSize)\n",
        "    plt.suptitle('Scatter and Density Plot')\n",
        "    plt.show()"
      ]
    },
    {
      "cell_type": "code",
      "execution_count": null,
      "metadata": {
        "colab": {
          "base_uri": "https://localhost:8080/"
        },
        "id": "49m99CRT_jhT",
        "outputId": "6b833690-338a-4f92-8959-c0d412222252"
      },
      "outputs": [
        {
          "output_type": "stream",
          "name": "stderr",
          "text": [
            "/usr/local/lib/python3.7/dist-packages/ipykernel_launcher.py:4: FutureWarning: In a future version of pandas all arguments of DataFrame.dropna will be keyword-only\n",
            "  after removing the cwd from sys.path.\n"
          ]
        }
      ],
      "source": [
        "plotScatterMatrix(data2, 20, 10)"
      ]
    },
    {
      "cell_type": "code",
      "execution_count": null,
      "metadata": {
        "id": "U-6dTkbU5-mD"
      },
      "outputs": [],
      "source": [
        "# Correlation matrix\n",
        "def plotCorrelationMatrix(df, graphWidth):\n",
        "    filename = df.dataframeName\n",
        "    df = df.dropna('columns') # drop columns with NaN\n",
        "    df = df[[col for col in df if df[col].nunique() > 1]] # keep columns where there are more than 1 unique values\n",
        "    if df.shape[1] < 2:\n",
        "        print(f'No correlation plots shown: The number of non-NaN or constant columns ({df.shape[1]}) is less than 2')\n",
        "        return\n",
        "    corr = df.corr()\n",
        "    plt.figure(num=None, figsize=(graphWidth, graphWidth), dpi=80, facecolor='w', edgecolor='k')\n",
        "    corrMat = plt.matshow(corr, fignum = 1)\n",
        "    plt.xticks(range(len(corr.columns)), corr.columns, rotation=90)\n",
        "    plt.yticks(range(len(corr.columns)), corr.columns)\n",
        "    plt.gca().xaxis.tick_bottom()\n",
        "    plt.colorbar(corrMat)\n",
        "    plt.title(f'Correlation Matrix for {filename}', fontsize=15)\n",
        "    plt.show()\n"
      ]
    },
    {
      "cell_type": "markdown",
      "metadata": {
        "id": "YZXr1J3Qh1Gr"
      },
      "source": [
        "#  4.Classification KNN"
      ]
    },
    {
      "cell_type": "code",
      "execution_count": null,
      "metadata": {
        "id": "Xn-wLjbc5SNe"
      },
      "outputs": [],
      "source": [
        "X = X_train.drop(['web_service'],axis=1)\n",
        "Y = X_train['web_service']"
      ]
    },
    {
      "cell_type": "code",
      "execution_count": null,
      "metadata": {
        "id": "qnACSZMD9ZMP"
      },
      "outputs": [],
      "source": [
        "data = X_train[['dst_port','flowDuration','f_pktTotalCount','flowEndReason', 'web_service']]"
      ]
    },
    {
      "cell_type": "code",
      "execution_count": null,
      "metadata": {
        "colab": {
          "base_uri": "https://localhost:8080/",
          "height": 206
        },
        "id": "3FQv-NWk9sV5",
        "outputId": "34c67b6c-47bf-4a8a-ea88-d9d532b79856"
      },
      "outputs": [
        {
          "data": {
            "text/html": [
              "\n",
              "  <div id=\"df-21cb432a-e48c-4a07-ba3f-f64455d6aad5\">\n",
              "    <div class=\"colab-df-container\">\n",
              "      <div>\n",
              "<style scoped>\n",
              "    .dataframe tbody tr th:only-of-type {\n",
              "        vertical-align: middle;\n",
              "    }\n",
              "\n",
              "    .dataframe tbody tr th {\n",
              "        vertical-align: top;\n",
              "    }\n",
              "\n",
              "    .dataframe thead th {\n",
              "        text-align: right;\n",
              "    }\n",
              "</style>\n",
              "<table border=\"1\" class=\"dataframe\">\n",
              "  <thead>\n",
              "    <tr style=\"text-align: right;\">\n",
              "      <th></th>\n",
              "      <th>dst_port</th>\n",
              "      <th>flowDuration</th>\n",
              "      <th>f_pktTotalCount</th>\n",
              "      <th>flowEndReason</th>\n",
              "      <th>web_service</th>\n",
              "    </tr>\n",
              "  </thead>\n",
              "  <tbody>\n",
              "    <tr>\n",
              "      <th>0</th>\n",
              "      <td>67</td>\n",
              "      <td>1701.385427</td>\n",
              "      <td>17</td>\n",
              "      <td>2</td>\n",
              "      <td>1</td>\n",
              "    </tr>\n",
              "    <tr>\n",
              "      <th>1</th>\n",
              "      <td>67</td>\n",
              "      <td>1701.385515</td>\n",
              "      <td>17</td>\n",
              "      <td>2</td>\n",
              "      <td>1</td>\n",
              "    </tr>\n",
              "    <tr>\n",
              "      <th>2</th>\n",
              "      <td>67</td>\n",
              "      <td>1450.967340</td>\n",
              "      <td>30</td>\n",
              "      <td>2</td>\n",
              "      <td>1</td>\n",
              "    </tr>\n",
              "    <tr>\n",
              "      <th>3</th>\n",
              "      <td>67</td>\n",
              "      <td>1450.967130</td>\n",
              "      <td>30</td>\n",
              "      <td>2</td>\n",
              "      <td>1</td>\n",
              "    </tr>\n",
              "    <tr>\n",
              "      <th>4</th>\n",
              "      <td>0</td>\n",
              "      <td>0.000000</td>\n",
              "      <td>1</td>\n",
              "      <td>2</td>\n",
              "      <td>2</td>\n",
              "    </tr>\n",
              "  </tbody>\n",
              "</table>\n",
              "</div>\n",
              "      <button class=\"colab-df-convert\" onclick=\"convertToInteractive('df-21cb432a-e48c-4a07-ba3f-f64455d6aad5')\"\n",
              "              title=\"Convert this dataframe to an interactive table.\"\n",
              "              style=\"display:none;\">\n",
              "        \n",
              "  <svg xmlns=\"http://www.w3.org/2000/svg\" height=\"24px\"viewBox=\"0 0 24 24\"\n",
              "       width=\"24px\">\n",
              "    <path d=\"M0 0h24v24H0V0z\" fill=\"none\"/>\n",
              "    <path d=\"M18.56 5.44l.94 2.06.94-2.06 2.06-.94-2.06-.94-.94-2.06-.94 2.06-2.06.94zm-11 1L8.5 8.5l.94-2.06 2.06-.94-2.06-.94L8.5 2.5l-.94 2.06-2.06.94zm10 10l.94 2.06.94-2.06 2.06-.94-2.06-.94-.94-2.06-.94 2.06-2.06.94z\"/><path d=\"M17.41 7.96l-1.37-1.37c-.4-.4-.92-.59-1.43-.59-.52 0-1.04.2-1.43.59L10.3 9.45l-7.72 7.72c-.78.78-.78 2.05 0 2.83L4 21.41c.39.39.9.59 1.41.59.51 0 1.02-.2 1.41-.59l7.78-7.78 2.81-2.81c.8-.78.8-2.07 0-2.86zM5.41 20L4 18.59l7.72-7.72 1.47 1.35L5.41 20z\"/>\n",
              "  </svg>\n",
              "      </button>\n",
              "      \n",
              "  <style>\n",
              "    .colab-df-container {\n",
              "      display:flex;\n",
              "      flex-wrap:wrap;\n",
              "      gap: 12px;\n",
              "    }\n",
              "\n",
              "    .colab-df-convert {\n",
              "      background-color: #E8F0FE;\n",
              "      border: none;\n",
              "      border-radius: 50%;\n",
              "      cursor: pointer;\n",
              "      display: none;\n",
              "      fill: #1967D2;\n",
              "      height: 32px;\n",
              "      padding: 0 0 0 0;\n",
              "      width: 32px;\n",
              "    }\n",
              "\n",
              "    .colab-df-convert:hover {\n",
              "      background-color: #E2EBFA;\n",
              "      box-shadow: 0px 1px 2px rgba(60, 64, 67, 0.3), 0px 1px 3px 1px rgba(60, 64, 67, 0.15);\n",
              "      fill: #174EA6;\n",
              "    }\n",
              "\n",
              "    [theme=dark] .colab-df-convert {\n",
              "      background-color: #3B4455;\n",
              "      fill: #D2E3FC;\n",
              "    }\n",
              "\n",
              "    [theme=dark] .colab-df-convert:hover {\n",
              "      background-color: #434B5C;\n",
              "      box-shadow: 0px 1px 3px 1px rgba(0, 0, 0, 0.15);\n",
              "      filter: drop-shadow(0px 1px 2px rgba(0, 0, 0, 0.3));\n",
              "      fill: #FFFFFF;\n",
              "    }\n",
              "  </style>\n",
              "\n",
              "      <script>\n",
              "        const buttonEl =\n",
              "          document.querySelector('#df-21cb432a-e48c-4a07-ba3f-f64455d6aad5 button.colab-df-convert');\n",
              "        buttonEl.style.display =\n",
              "          google.colab.kernel.accessAllowed ? 'block' : 'none';\n",
              "\n",
              "        async function convertToInteractive(key) {\n",
              "          const element = document.querySelector('#df-21cb432a-e48c-4a07-ba3f-f64455d6aad5');\n",
              "          const dataTable =\n",
              "            await google.colab.kernel.invokeFunction('convertToInteractive',\n",
              "                                                     [key], {});\n",
              "          if (!dataTable) return;\n",
              "\n",
              "          const docLinkHtml = 'Like what you see? Visit the ' +\n",
              "            '<a target=\"_blank\" href=https://colab.research.google.com/notebooks/data_table.ipynb>data table notebook</a>'\n",
              "            + ' to learn more about interactive tables.';\n",
              "          element.innerHTML = '';\n",
              "          dataTable['output_type'] = 'display_data';\n",
              "          await google.colab.output.renderOutput(dataTable, element);\n",
              "          const docLink = document.createElement('div');\n",
              "          docLink.innerHTML = docLinkHtml;\n",
              "          element.appendChild(docLink);\n",
              "        }\n",
              "      </script>\n",
              "    </div>\n",
              "  </div>\n",
              "  "
            ],
            "text/plain": [
              "   dst_port  flowDuration  f_pktTotalCount  flowEndReason  web_service\n",
              "0        67   1701.385427               17              2            1\n",
              "1        67   1701.385515               17              2            1\n",
              "2        67   1450.967340               30              2            1\n",
              "3        67   1450.967130               30              2            1\n",
              "4         0      0.000000                1              2            2"
            ]
          },
          "execution_count": 15,
          "metadata": {},
          "output_type": "execute_result"
        }
      ],
      "source": [
        "data.head()"
      ]
    },
    {
      "cell_type": "code",
      "execution_count": null,
      "metadata": {
        "colab": {
          "base_uri": "https://localhost:8080/",
          "height": 310
        },
        "id": "Jy3fOwSe9y7Z",
        "outputId": "503cdd8d-a5fa-401b-9ae9-e0f30b5f7f32"
      },
      "outputs": [
        {
          "name": "stderr",
          "output_type": "stream",
          "text": [
            "/usr/local/lib/python3.7/dist-packages/ipykernel_launcher.py:3: SettingWithCopyWarning: \n",
            "A value is trying to be set on a copy of a slice from a DataFrame.\n",
            "Try using .loc[row_indexer,col_indexer] = value instead\n",
            "\n",
            "See the caveats in the documentation: https://pandas.pydata.org/pandas-docs/stable/user_guide/indexing.html#returning-a-view-versus-a-copy\n",
            "  This is separate from the ipykernel package so we can avoid doing imports until\n"
          ]
        },
        {
          "data": {
            "text/html": [
              "\n",
              "  <div id=\"df-3aff32ae-5b88-43b8-b0fc-e2267198d8a5\">\n",
              "    <div class=\"colab-df-container\">\n",
              "      <div>\n",
              "<style scoped>\n",
              "    .dataframe tbody tr th:only-of-type {\n",
              "        vertical-align: middle;\n",
              "    }\n",
              "\n",
              "    .dataframe tbody tr th {\n",
              "        vertical-align: top;\n",
              "    }\n",
              "\n",
              "    .dataframe thead th {\n",
              "        text-align: right;\n",
              "    }\n",
              "</style>\n",
              "<table border=\"1\" class=\"dataframe\">\n",
              "  <thead>\n",
              "    <tr style=\"text-align: right;\">\n",
              "      <th></th>\n",
              "      <th>dst_port</th>\n",
              "      <th>flowDuration</th>\n",
              "      <th>f_pktTotalCount</th>\n",
              "      <th>flowEndReason</th>\n",
              "      <th>web_service</th>\n",
              "    </tr>\n",
              "  </thead>\n",
              "  <tbody>\n",
              "    <tr>\n",
              "      <th>0</th>\n",
              "      <td>67</td>\n",
              "      <td>1701.385427</td>\n",
              "      <td>17</td>\n",
              "      <td>2</td>\n",
              "      <td>17</td>\n",
              "    </tr>\n",
              "    <tr>\n",
              "      <th>1</th>\n",
              "      <td>67</td>\n",
              "      <td>1701.385515</td>\n",
              "      <td>17</td>\n",
              "      <td>2</td>\n",
              "      <td>17</td>\n",
              "    </tr>\n",
              "    <tr>\n",
              "      <th>2</th>\n",
              "      <td>67</td>\n",
              "      <td>1450.967340</td>\n",
              "      <td>30</td>\n",
              "      <td>2</td>\n",
              "      <td>17</td>\n",
              "    </tr>\n",
              "    <tr>\n",
              "      <th>3</th>\n",
              "      <td>67</td>\n",
              "      <td>1450.967130</td>\n",
              "      <td>30</td>\n",
              "      <td>2</td>\n",
              "      <td>17</td>\n",
              "    </tr>\n",
              "    <tr>\n",
              "      <th>4</th>\n",
              "      <td>0</td>\n",
              "      <td>0.000000</td>\n",
              "      <td>1</td>\n",
              "      <td>2</td>\n",
              "      <td>43</td>\n",
              "    </tr>\n",
              "  </tbody>\n",
              "</table>\n",
              "</div>\n",
              "      <button class=\"colab-df-convert\" onclick=\"convertToInteractive('df-3aff32ae-5b88-43b8-b0fc-e2267198d8a5')\"\n",
              "              title=\"Convert this dataframe to an interactive table.\"\n",
              "              style=\"display:none;\">\n",
              "        \n",
              "  <svg xmlns=\"http://www.w3.org/2000/svg\" height=\"24px\"viewBox=\"0 0 24 24\"\n",
              "       width=\"24px\">\n",
              "    <path d=\"M0 0h24v24H0V0z\" fill=\"none\"/>\n",
              "    <path d=\"M18.56 5.44l.94 2.06.94-2.06 2.06-.94-2.06-.94-.94-2.06-.94 2.06-2.06.94zm-11 1L8.5 8.5l.94-2.06 2.06-.94-2.06-.94L8.5 2.5l-.94 2.06-2.06.94zm10 10l.94 2.06.94-2.06 2.06-.94-2.06-.94-.94-2.06-.94 2.06-2.06.94z\"/><path d=\"M17.41 7.96l-1.37-1.37c-.4-.4-.92-.59-1.43-.59-.52 0-1.04.2-1.43.59L10.3 9.45l-7.72 7.72c-.78.78-.78 2.05 0 2.83L4 21.41c.39.39.9.59 1.41.59.51 0 1.02-.2 1.41-.59l7.78-7.78 2.81-2.81c.8-.78.8-2.07 0-2.86zM5.41 20L4 18.59l7.72-7.72 1.47 1.35L5.41 20z\"/>\n",
              "  </svg>\n",
              "      </button>\n",
              "      \n",
              "  <style>\n",
              "    .colab-df-container {\n",
              "      display:flex;\n",
              "      flex-wrap:wrap;\n",
              "      gap: 12px;\n",
              "    }\n",
              "\n",
              "    .colab-df-convert {\n",
              "      background-color: #E8F0FE;\n",
              "      border: none;\n",
              "      border-radius: 50%;\n",
              "      cursor: pointer;\n",
              "      display: none;\n",
              "      fill: #1967D2;\n",
              "      height: 32px;\n",
              "      padding: 0 0 0 0;\n",
              "      width: 32px;\n",
              "    }\n",
              "\n",
              "    .colab-df-convert:hover {\n",
              "      background-color: #E2EBFA;\n",
              "      box-shadow: 0px 1px 2px rgba(60, 64, 67, 0.3), 0px 1px 3px 1px rgba(60, 64, 67, 0.15);\n",
              "      fill: #174EA6;\n",
              "    }\n",
              "\n",
              "    [theme=dark] .colab-df-convert {\n",
              "      background-color: #3B4455;\n",
              "      fill: #D2E3FC;\n",
              "    }\n",
              "\n",
              "    [theme=dark] .colab-df-convert:hover {\n",
              "      background-color: #434B5C;\n",
              "      box-shadow: 0px 1px 3px 1px rgba(0, 0, 0, 0.15);\n",
              "      filter: drop-shadow(0px 1px 2px rgba(0, 0, 0, 0.3));\n",
              "      fill: #FFFFFF;\n",
              "    }\n",
              "  </style>\n",
              "\n",
              "      <script>\n",
              "        const buttonEl =\n",
              "          document.querySelector('#df-3aff32ae-5b88-43b8-b0fc-e2267198d8a5 button.colab-df-convert');\n",
              "        buttonEl.style.display =\n",
              "          google.colab.kernel.accessAllowed ? 'block' : 'none';\n",
              "\n",
              "        async function convertToInteractive(key) {\n",
              "          const element = document.querySelector('#df-3aff32ae-5b88-43b8-b0fc-e2267198d8a5');\n",
              "          const dataTable =\n",
              "            await google.colab.kernel.invokeFunction('convertToInteractive',\n",
              "                                                     [key], {});\n",
              "          if (!dataTable) return;\n",
              "\n",
              "          const docLinkHtml = 'Like what you see? Visit the ' +\n",
              "            '<a target=\"_blank\" href=https://colab.research.google.com/notebooks/data_table.ipynb>data table notebook</a>'\n",
              "            + ' to learn more about interactive tables.';\n",
              "          element.innerHTML = '';\n",
              "          dataTable['output_type'] = 'display_data';\n",
              "          await google.colab.output.renderOutput(dataTable, element);\n",
              "          const docLink = document.createElement('div');\n",
              "          docLink.innerHTML = docLinkHtml;\n",
              "          element.appendChild(docLink);\n",
              "        }\n",
              "      </script>\n",
              "    </div>\n",
              "  </div>\n",
              "  "
            ],
            "text/plain": [
              "   dst_port  flowDuration  f_pktTotalCount  flowEndReason  web_service\n",
              "0        67   1701.385427               17              2           17\n",
              "1        67   1701.385515               17              2           17\n",
              "2        67   1450.967340               30              2           17\n",
              "3        67   1450.967130               30              2           17\n",
              "4         0      0.000000                1              2           43"
            ]
          },
          "execution_count": 11,
          "metadata": {},
          "output_type": "execute_result"
        }
      ],
      "source": [
        "from sklearn.preprocessing import LabelEncoder\n",
        "lc = LabelEncoder()\n",
        "data[\"web_service\"] = lc.fit_transform(data[\"web_service\"])\n",
        "data.head()"
      ]
    },
    {
      "cell_type": "code",
      "execution_count": null,
      "metadata": {
        "id": "YgXaTc0g94Lx"
      },
      "outputs": [],
      "source": [
        "X = data.drop(\"web_service\", axis=1)\n",
        "y = data[\"web_service\"]"
      ]
    },
    {
      "cell_type": "code",
      "execution_count": null,
      "metadata": {
        "id": "sgNK9dtf98Qe"
      },
      "outputs": [],
      "source": [
        "from sklearn.model_selection import train_test_split\n",
        "X_train, X_test, y_train, y_test = train_test_split(X, Y, test_size=0.33, random_state=42)\n",
        "\n",
        "from sklearn import preprocessing\n",
        "scaler = preprocessing.StandardScaler().fit(X_train)\n",
        "X_train = scaler.transform(X_train)\n"
      ]
    },
    {
      "cell_type": "code",
      "execution_count": null,
      "metadata": {
        "colab": {
          "background_save": true,
          "base_uri": "https://localhost:8080/"
        },
        "id": "OxHSUz2P9--F",
        "outputId": "d53abc82-bb8d-4fcb-f418-c7af8a5ebf1c"
      },
      "outputs": [
        {
          "name": "stderr",
          "output_type": "stream",
          "text": [
            "/usr/local/lib/python3.7/dist-packages/sklearn/base.py:444: UserWarning: X has feature names, but KNeighborsClassifier was fitted without feature names\n",
            "  f\"X has feature names, but {self.__class__.__name__} was fitted without\"\n"
          ]
        }
      ],
      "source": [
        "from sklearn.neighbors import KNeighborsClassifier\n",
        "from sklearn import metrics\n",
        "neigh = KNeighborsClassifier(n_neighbors=3)\n",
        "neigh.fit(X_train, y_train)\n",
        "# store the predicted response values\n",
        "y_pred = neigh.predict(X_test)\n",
        "print(metrics.accuracy_score(y_test, y_pred))"
      ]
    },
    {
      "cell_type": "code",
      "execution_count": null,
      "metadata": {
        "id": "O1RscmWX_OyD"
      },
      "outputs": [],
      "source": [
        "# try K=1 through K=25 and record testing accuracy\n",
        "k_range = range(1, 10)\n",
        "\n",
        "# We can create Python dictionary using [] or dict()\n",
        "scores = []\n",
        "\n",
        "# We use a loop through the range 1 to 26\n",
        "# We append the scores in the dictionary\n",
        "for k in k_range:\n",
        "    knn = KNeighborsClassifier(n_neighbors=k)\n",
        "    knn.fit(X_train, y_train)\n",
        "    y_pred = knn.predict(X_test)\n",
        "    scores.append(metrics.accuracy_score(y_test, y_pred))\n",
        "\n",
        "print(scores)"
      ]
    },
    {
      "cell_type": "code",
      "execution_count": null,
      "metadata": {
        "id": "ReKb8WpUAuIa"
      },
      "outputs": [],
      "source": [
        "X = df.drop(['web_service'],axis=1)\n",
        "Y = df['web_service']"
      ]
    },
    {
      "cell_type": "code",
      "execution_count": null,
      "metadata": {
        "id": "rlXkQPuyBGPr"
      },
      "outputs": [],
      "source": [
        "from sklearn.model_selection import train_test_split\n",
        "\n",
        "X_train, X_test, y_train, y_test = train_test_split(X, Y, test_size = 0.33, random_state = 50)"
      ]
    },
    {
      "cell_type": "code",
      "execution_count": null,
      "metadata": {
        "colab": {
          "base_uri": "https://localhost:8080/"
        },
        "id": "_Tb3_IHpBQcX",
        "outputId": "fdfc17a9-5b09-4482-d610-5287daed866d"
      },
      "outputs": [
        {
          "data": {
            "text/plain": [
              "((1812242, 49), (892597, 49))"
            ]
          },
          "execution_count": 14,
          "metadata": {},
          "output_type": "execute_result"
        }
      ],
      "source": [
        "X_train.shape, X_test.shape"
      ]
    },
    {
      "cell_type": "code",
      "execution_count": null,
      "metadata": {
        "colab": {
          "base_uri": "https://localhost:8080/"
        },
        "id": "FY5v-yw1BU_l",
        "outputId": "ef439599-a677-45d7-9c8a-c955691be3d3"
      },
      "outputs": [
        {
          "data": {
            "text/plain": [
              "flow_key                 object\n",
              "src_ip_numeric            int64\n",
              "src_ip                   object\n",
              "src_port                  int64\n",
              "dst_ip                   object\n",
              "dst_port                  int64\n",
              "proto                     int64\n",
              "pktTotalCount             int64\n",
              "octetTotalCount           int64\n",
              "min_ps                    int64\n",
              "max_ps                    int64\n",
              "avg_ps                  float64\n",
              "std_dev_ps              float64\n",
              "flowStart               float64\n",
              "flowEnd                 float64\n",
              "flowDuration            float64\n",
              "min_piat                float64\n",
              "max_piat                float64\n",
              "avg_piat                float64\n",
              "std_dev_piat            float64\n",
              "f_pktTotalCount           int64\n",
              "f_octetTotalCount         int64\n",
              "f_min_ps                  int64\n",
              "f_max_ps                  int64\n",
              "f_avg_ps                float64\n",
              "f_std_dev_ps            float64\n",
              "f_flowStart             float64\n",
              "f_flowEnd               float64\n",
              "f_flowDuration          float64\n",
              "f_min_piat              float64\n",
              "f_max_piat              float64\n",
              "f_avg_piat              float64\n",
              "f_std_dev_piat          float64\n",
              "b_pktTotalCount           int64\n",
              "b_octetTotalCount         int64\n",
              "b_min_ps                  int64\n",
              "b_max_ps                  int64\n",
              "b_avg_ps                float64\n",
              "b_std_dev_ps            float64\n",
              "b_flowStart             float64\n",
              "b_flowEnd               float64\n",
              "b_flowDuration          float64\n",
              "b_min_piat              float64\n",
              "b_max_piat              float64\n",
              "b_avg_piat              float64\n",
              "b_std_dev_piat          float64\n",
              "flowEndReason             int64\n",
              "application_protocol     object\n",
              "web_service              object\n",
              "dtype: object"
            ]
          },
          "execution_count": 15,
          "metadata": {},
          "output_type": "execute_result"
        }
      ],
      "source": [
        "X_train.dtypes"
      ]
    },
    {
      "cell_type": "code",
      "execution_count": null,
      "metadata": {
        "colab": {
          "base_uri": "https://localhost:8080/",
          "height": 299
        },
        "id": "xetLRYoSBwZc",
        "outputId": "9c137508-4622-4675-8bb0-1264767df739"
      },
      "outputs": [
        {
          "data": {
            "text/html": [
              "\n",
              "  <div id=\"df-c436f1cd-6138-45f8-bb0a-2acf77f478d5\">\n",
              "    <div class=\"colab-df-container\">\n",
              "      <div>\n",
              "<style scoped>\n",
              "    .dataframe tbody tr th:only-of-type {\n",
              "        vertical-align: middle;\n",
              "    }\n",
              "\n",
              "    .dataframe tbody tr th {\n",
              "        vertical-align: top;\n",
              "    }\n",
              "\n",
              "    .dataframe thead th {\n",
              "        text-align: right;\n",
              "    }\n",
              "</style>\n",
              "<table border=\"1\" class=\"dataframe\">\n",
              "  <thead>\n",
              "    <tr style=\"text-align: right;\">\n",
              "      <th></th>\n",
              "      <th>flow_key</th>\n",
              "      <th>src_ip_numeric</th>\n",
              "      <th>src_ip</th>\n",
              "      <th>src_port</th>\n",
              "      <th>dst_ip</th>\n",
              "      <th>dst_port</th>\n",
              "      <th>proto</th>\n",
              "      <th>pktTotalCount</th>\n",
              "      <th>octetTotalCount</th>\n",
              "      <th>min_ps</th>\n",
              "      <th>...</th>\n",
              "      <th>b_flowStart</th>\n",
              "      <th>b_flowEnd</th>\n",
              "      <th>b_flowDuration</th>\n",
              "      <th>b_min_piat</th>\n",
              "      <th>b_max_piat</th>\n",
              "      <th>b_avg_piat</th>\n",
              "      <th>b_std_dev_piat</th>\n",
              "      <th>flowEndReason</th>\n",
              "      <th>application_protocol</th>\n",
              "      <th>web_service</th>\n",
              "    </tr>\n",
              "  </thead>\n",
              "  <tbody>\n",
              "    <tr>\n",
              "      <th>1855976</th>\n",
              "      <td>3369c74afe21c17928b5d43a281d154c</td>\n",
              "      <td>3232268330</td>\n",
              "      <td>192.168.128.42</td>\n",
              "      <td>56477</td>\n",
              "      <td>172.16.255.200</td>\n",
              "      <td>53</td>\n",
              "      <td>17</td>\n",
              "      <td>2</td>\n",
              "      <td>215</td>\n",
              "      <td>66</td>\n",
              "      <td>...</td>\n",
              "      <td>1.556639e+09</td>\n",
              "      <td>1.556639e+09</td>\n",
              "      <td>0.000000e+00</td>\n",
              "      <td>0.000000e+00</td>\n",
              "      <td>0.000000</td>\n",
              "      <td>0.000000</td>\n",
              "      <td>0.000000</td>\n",
              "      <td>2</td>\n",
              "      <td>Unknown</td>\n",
              "      <td>DNS</td>\n",
              "    </tr>\n",
              "    <tr>\n",
              "      <th>1665637</th>\n",
              "      <td>ec9df813ebf51a04de6b6968b13ba11a</td>\n",
              "      <td>3232266573</td>\n",
              "      <td>192.168.121.77</td>\n",
              "      <td>58664</td>\n",
              "      <td>77.234.42.252</td>\n",
              "      <td>443</td>\n",
              "      <td>6</td>\n",
              "      <td>19</td>\n",
              "      <td>6735</td>\n",
              "      <td>40</td>\n",
              "      <td>...</td>\n",
              "      <td>1.556639e+09</td>\n",
              "      <td>1.556639e+09</td>\n",
              "      <td>1.555082e+12</td>\n",
              "      <td>9.536743e-07</td>\n",
              "      <td>0.114066</td>\n",
              "      <td>0.027554</td>\n",
              "      <td>0.038676</td>\n",
              "      <td>2</td>\n",
              "      <td>Unknown</td>\n",
              "      <td>TLS</td>\n",
              "    </tr>\n",
              "    <tr>\n",
              "      <th>2410347</th>\n",
              "      <td>6ecfcffad6bc74e8084009a5b3aa40af</td>\n",
              "      <td>3232268375</td>\n",
              "      <td>192.168.128.87</td>\n",
              "      <td>56876</td>\n",
              "      <td>190.200.139.104</td>\n",
              "      <td>37431</td>\n",
              "      <td>6</td>\n",
              "      <td>9</td>\n",
              "      <td>452</td>\n",
              "      <td>40</td>\n",
              "      <td>...</td>\n",
              "      <td>1.559685e+09</td>\n",
              "      <td>1.559685e+09</td>\n",
              "      <td>1.558125e+12</td>\n",
              "      <td>2.040148e-03</td>\n",
              "      <td>0.549863</td>\n",
              "      <td>0.257491</td>\n",
              "      <td>0.225166</td>\n",
              "      <td>3</td>\n",
              "      <td>Unknown</td>\n",
              "      <td>BitTorrent</td>\n",
              "    </tr>\n",
              "    <tr>\n",
              "      <th>1560157</th>\n",
              "      <td>99831933d1cbf30574d43e8dcbf85a04</td>\n",
              "      <td>3232268349</td>\n",
              "      <td>192.168.128.61</td>\n",
              "      <td>60810</td>\n",
              "      <td>201.198.181.14</td>\n",
              "      <td>6882</td>\n",
              "      <td>6</td>\n",
              "      <td>2</td>\n",
              "      <td>104</td>\n",
              "      <td>52</td>\n",
              "      <td>...</td>\n",
              "      <td>0.000000e+00</td>\n",
              "      <td>0.000000e+00</td>\n",
              "      <td>0.000000e+00</td>\n",
              "      <td>0.000000e+00</td>\n",
              "      <td>0.000000</td>\n",
              "      <td>0.000000</td>\n",
              "      <td>0.000000</td>\n",
              "      <td>2</td>\n",
              "      <td>Unknown</td>\n",
              "      <td>Unknown</td>\n",
              "    </tr>\n",
              "    <tr>\n",
              "      <th>82866</th>\n",
              "      <td>db584a45433d36b7f00cad3fc67d356c</td>\n",
              "      <td>3232266826</td>\n",
              "      <td>192.168.122.74</td>\n",
              "      <td>47102</td>\n",
              "      <td>157.240.14.10</td>\n",
              "      <td>443</td>\n",
              "      <td>6</td>\n",
              "      <td>1</td>\n",
              "      <td>52</td>\n",
              "      <td>52</td>\n",
              "      <td>...</td>\n",
              "      <td>0.000000e+00</td>\n",
              "      <td>0.000000e+00</td>\n",
              "      <td>0.000000e+00</td>\n",
              "      <td>0.000000e+00</td>\n",
              "      <td>0.000000</td>\n",
              "      <td>0.000000</td>\n",
              "      <td>0.000000</td>\n",
              "      <td>2</td>\n",
              "      <td>TLS</td>\n",
              "      <td>Facebook</td>\n",
              "    </tr>\n",
              "  </tbody>\n",
              "</table>\n",
              "<p>5 rows × 49 columns</p>\n",
              "</div>\n",
              "      <button class=\"colab-df-convert\" onclick=\"convertToInteractive('df-c436f1cd-6138-45f8-bb0a-2acf77f478d5')\"\n",
              "              title=\"Convert this dataframe to an interactive table.\"\n",
              "              style=\"display:none;\">\n",
              "        \n",
              "  <svg xmlns=\"http://www.w3.org/2000/svg\" height=\"24px\"viewBox=\"0 0 24 24\"\n",
              "       width=\"24px\">\n",
              "    <path d=\"M0 0h24v24H0V0z\" fill=\"none\"/>\n",
              "    <path d=\"M18.56 5.44l.94 2.06.94-2.06 2.06-.94-2.06-.94-.94-2.06-.94 2.06-2.06.94zm-11 1L8.5 8.5l.94-2.06 2.06-.94-2.06-.94L8.5 2.5l-.94 2.06-2.06.94zm10 10l.94 2.06.94-2.06 2.06-.94-2.06-.94-.94-2.06-.94 2.06-2.06.94z\"/><path d=\"M17.41 7.96l-1.37-1.37c-.4-.4-.92-.59-1.43-.59-.52 0-1.04.2-1.43.59L10.3 9.45l-7.72 7.72c-.78.78-.78 2.05 0 2.83L4 21.41c.39.39.9.59 1.41.59.51 0 1.02-.2 1.41-.59l7.78-7.78 2.81-2.81c.8-.78.8-2.07 0-2.86zM5.41 20L4 18.59l7.72-7.72 1.47 1.35L5.41 20z\"/>\n",
              "  </svg>\n",
              "      </button>\n",
              "      \n",
              "  <style>\n",
              "    .colab-df-container {\n",
              "      display:flex;\n",
              "      flex-wrap:wrap;\n",
              "      gap: 12px;\n",
              "    }\n",
              "\n",
              "    .colab-df-convert {\n",
              "      background-color: #E8F0FE;\n",
              "      border: none;\n",
              "      border-radius: 50%;\n",
              "      cursor: pointer;\n",
              "      display: none;\n",
              "      fill: #1967D2;\n",
              "      height: 32px;\n",
              "      padding: 0 0 0 0;\n",
              "      width: 32px;\n",
              "    }\n",
              "\n",
              "    .colab-df-convert:hover {\n",
              "      background-color: #E2EBFA;\n",
              "      box-shadow: 0px 1px 2px rgba(60, 64, 67, 0.3), 0px 1px 3px 1px rgba(60, 64, 67, 0.15);\n",
              "      fill: #174EA6;\n",
              "    }\n",
              "\n",
              "    [theme=dark] .colab-df-convert {\n",
              "      background-color: #3B4455;\n",
              "      fill: #D2E3FC;\n",
              "    }\n",
              "\n",
              "    [theme=dark] .colab-df-convert:hover {\n",
              "      background-color: #434B5C;\n",
              "      box-shadow: 0px 1px 3px 1px rgba(0, 0, 0, 0.15);\n",
              "      filter: drop-shadow(0px 1px 2px rgba(0, 0, 0, 0.3));\n",
              "      fill: #FFFFFF;\n",
              "    }\n",
              "  </style>\n",
              "\n",
              "      <script>\n",
              "        const buttonEl =\n",
              "          document.querySelector('#df-c436f1cd-6138-45f8-bb0a-2acf77f478d5 button.colab-df-convert');\n",
              "        buttonEl.style.display =\n",
              "          google.colab.kernel.accessAllowed ? 'block' : 'none';\n",
              "\n",
              "        async function convertToInteractive(key) {\n",
              "          const element = document.querySelector('#df-c436f1cd-6138-45f8-bb0a-2acf77f478d5');\n",
              "          const dataTable =\n",
              "            await google.colab.kernel.invokeFunction('convertToInteractive',\n",
              "                                                     [key], {});\n",
              "          if (!dataTable) return;\n",
              "\n",
              "          const docLinkHtml = 'Like what you see? Visit the ' +\n",
              "            '<a target=\"_blank\" href=https://colab.research.google.com/notebooks/data_table.ipynb>data table notebook</a>'\n",
              "            + ' to learn more about interactive tables.';\n",
              "          element.innerHTML = '';\n",
              "          dataTable['output_type'] = 'display_data';\n",
              "          await google.colab.output.renderOutput(dataTable, element);\n",
              "          const docLink = document.createElement('div');\n",
              "          docLink.innerHTML = docLinkHtml;\n",
              "          element.appendChild(docLink);\n",
              "        }\n",
              "      </script>\n",
              "    </div>\n",
              "  </div>\n",
              "  "
            ],
            "text/plain": [
              "                                 flow_key  src_ip_numeric          src_ip  \\\n",
              "1855976  3369c74afe21c17928b5d43a281d154c      3232268330  192.168.128.42   \n",
              "1665637  ec9df813ebf51a04de6b6968b13ba11a      3232266573  192.168.121.77   \n",
              "2410347  6ecfcffad6bc74e8084009a5b3aa40af      3232268375  192.168.128.87   \n",
              "1560157  99831933d1cbf30574d43e8dcbf85a04      3232268349  192.168.128.61   \n",
              "82866    db584a45433d36b7f00cad3fc67d356c      3232266826  192.168.122.74   \n",
              "\n",
              "         src_port           dst_ip  dst_port  proto  pktTotalCount  \\\n",
              "1855976     56477   172.16.255.200        53     17              2   \n",
              "1665637     58664    77.234.42.252       443      6             19   \n",
              "2410347     56876  190.200.139.104     37431      6              9   \n",
              "1560157     60810   201.198.181.14      6882      6              2   \n",
              "82866       47102    157.240.14.10       443      6              1   \n",
              "\n",
              "         octetTotalCount  min_ps  ...   b_flowStart     b_flowEnd  \\\n",
              "1855976              215      66  ...  1.556639e+09  1.556639e+09   \n",
              "1665637             6735      40  ...  1.556639e+09  1.556639e+09   \n",
              "2410347              452      40  ...  1.559685e+09  1.559685e+09   \n",
              "1560157              104      52  ...  0.000000e+00  0.000000e+00   \n",
              "82866                 52      52  ...  0.000000e+00  0.000000e+00   \n",
              "\n",
              "         b_flowDuration    b_min_piat  b_max_piat  b_avg_piat  b_std_dev_piat  \\\n",
              "1855976    0.000000e+00  0.000000e+00    0.000000    0.000000        0.000000   \n",
              "1665637    1.555082e+12  9.536743e-07    0.114066    0.027554        0.038676   \n",
              "2410347    1.558125e+12  2.040148e-03    0.549863    0.257491        0.225166   \n",
              "1560157    0.000000e+00  0.000000e+00    0.000000    0.000000        0.000000   \n",
              "82866      0.000000e+00  0.000000e+00    0.000000    0.000000        0.000000   \n",
              "\n",
              "         flowEndReason  application_protocol  web_service  \n",
              "1855976              2               Unknown          DNS  \n",
              "1665637              2               Unknown          TLS  \n",
              "2410347              3               Unknown   BitTorrent  \n",
              "1560157              2               Unknown      Unknown  \n",
              "82866                2                   TLS     Facebook  \n",
              "\n",
              "[5 rows x 49 columns]"
            ]
          },
          "execution_count": 16,
          "metadata": {},
          "output_type": "execute_result"
        }
      ],
      "source": [
        "X_train.head()"
      ]
    },
    {
      "cell_type": "code",
      "execution_count": null,
      "metadata": {
        "id": "HYuUPv2qB03e"
      },
      "outputs": [],
      "source": [
        "from sklearn.tree import DecisionTreeClassifier"
      ]
    },
    {
      "cell_type": "code",
      "execution_count": null,
      "metadata": {
        "colab": {
          "base_uri": "https://localhost:8080/"
        },
        "id": "XNoVBnqEJBNm",
        "outputId": "9f933f7a-64e8-45ec-d0a0-744be2b13bef"
      },
      "outputs": [
        {
          "name": "stdout",
          "output_type": "stream",
          "text": [
            "Looking in indexes: https://pypi.org/simple, https://us-python.pkg.dev/colab-wheels/public/simple/\n",
            "Collecting category_encoders\n",
            "  Downloading category_encoders-2.5.0-py2.py3-none-any.whl (69 kB)\n",
            "\u001b[?25l\r\u001b[K     |████▊                           | 10 kB 25.3 MB/s eta 0:00:01\r\u001b[K     |█████████▌                      | 20 kB 27.1 MB/s eta 0:00:01\r\u001b[K     |██████████████▎                 | 30 kB 33.6 MB/s eta 0:00:01\r\u001b[K     |███████████████████             | 40 kB 27.4 MB/s eta 0:00:01\r\u001b[K     |███████████████████████▊        | 51 kB 22.0 MB/s eta 0:00:01\r\u001b[K     |████████████████████████████▌   | 61 kB 25.1 MB/s eta 0:00:01\r\u001b[K     |████████████████████████████████| 69 kB 6.8 MB/s \n",
            "\u001b[?25hRequirement already satisfied: pandas>=1.0.5 in /usr/local/lib/python3.7/dist-packages (from category_encoders) (1.3.5)\n",
            "Requirement already satisfied: scipy>=1.0.0 in /usr/local/lib/python3.7/dist-packages (from category_encoders) (1.7.3)\n",
            "Requirement already satisfied: numpy>=1.14.0 in /usr/local/lib/python3.7/dist-packages (from category_encoders) (1.21.6)\n",
            "Requirement already satisfied: statsmodels>=0.9.0 in /usr/local/lib/python3.7/dist-packages (from category_encoders) (0.12.2)\n",
            "Requirement already satisfied: patsy>=0.5.1 in /usr/local/lib/python3.7/dist-packages (from category_encoders) (0.5.2)\n",
            "Requirement already satisfied: scikit-learn>=0.20.0 in /usr/local/lib/python3.7/dist-packages (from category_encoders) (1.0.2)\n",
            "Requirement already satisfied: python-dateutil>=2.7.3 in /usr/local/lib/python3.7/dist-packages (from pandas>=1.0.5->category_encoders) (2.8.2)\n",
            "Requirement already satisfied: pytz>=2017.3 in /usr/local/lib/python3.7/dist-packages (from pandas>=1.0.5->category_encoders) (2022.2.1)\n",
            "Requirement already satisfied: six in /usr/local/lib/python3.7/dist-packages (from patsy>=0.5.1->category_encoders) (1.15.0)\n",
            "Requirement already satisfied: joblib>=0.11 in /usr/local/lib/python3.7/dist-packages (from scikit-learn>=0.20.0->category_encoders) (1.1.0)\n",
            "Requirement already satisfied: threadpoolctl>=2.0.0 in /usr/local/lib/python3.7/dist-packages (from scikit-learn>=0.20.0->category_encoders) (3.1.0)\n",
            "Installing collected packages: category-encoders\n",
            "Successfully installed category-encoders-2.5.0\n"
          ]
        }
      ],
      "source": [
        "!pip install category_encoders"
      ]
    },
    {
      "cell_type": "code",
      "execution_count": null,
      "metadata": {
        "id": "dcpficHVDtS-"
      },
      "outputs": [],
      "source": [
        "import category_encoders as ce"
      ]
    },
    {
      "cell_type": "code",
      "execution_count": null,
      "metadata": {
        "id": "0m0oU6BJJLDW"
      },
      "outputs": [],
      "source": [
        "encoder = ce.OrdinalEncoder(cols=['flow_key', 'src_ip', 'dst_ip', 'application_protocol', 'web_service'])\n",
        "\n",
        "\n",
        "X_train = encoder.fit_transform(X_train)\n",
        "\n",
        "X_test = encoder.transform(X_test)"
      ]
    },
    {
      "cell_type": "code",
      "execution_count": null,
      "metadata": {
        "colab": {
          "base_uri": "https://localhost:8080/",
          "height": 299
        },
        "id": "_uGyUgBCQ3Fq",
        "outputId": "288c55f3-9d16-4f44-d168-e29aa95ec2b2"
      },
      "outputs": [
        {
          "data": {
            "text/html": [
              "\n",
              "  <div id=\"df-eea17562-d025-49c9-9f57-2d6c1fe55169\">\n",
              "    <div class=\"colab-df-container\">\n",
              "      <div>\n",
              "<style scoped>\n",
              "    .dataframe tbody tr th:only-of-type {\n",
              "        vertical-align: middle;\n",
              "    }\n",
              "\n",
              "    .dataframe tbody tr th {\n",
              "        vertical-align: top;\n",
              "    }\n",
              "\n",
              "    .dataframe thead th {\n",
              "        text-align: right;\n",
              "    }\n",
              "</style>\n",
              "<table border=\"1\" class=\"dataframe\">\n",
              "  <thead>\n",
              "    <tr style=\"text-align: right;\">\n",
              "      <th></th>\n",
              "      <th>flow_key</th>\n",
              "      <th>src_ip_numeric</th>\n",
              "      <th>src_ip</th>\n",
              "      <th>src_port</th>\n",
              "      <th>dst_ip</th>\n",
              "      <th>dst_port</th>\n",
              "      <th>proto</th>\n",
              "      <th>pktTotalCount</th>\n",
              "      <th>octetTotalCount</th>\n",
              "      <th>min_ps</th>\n",
              "      <th>...</th>\n",
              "      <th>b_flowStart</th>\n",
              "      <th>b_flowEnd</th>\n",
              "      <th>b_flowDuration</th>\n",
              "      <th>b_min_piat</th>\n",
              "      <th>b_max_piat</th>\n",
              "      <th>b_avg_piat</th>\n",
              "      <th>b_std_dev_piat</th>\n",
              "      <th>flowEndReason</th>\n",
              "      <th>application_protocol</th>\n",
              "      <th>web_service</th>\n",
              "    </tr>\n",
              "  </thead>\n",
              "  <tbody>\n",
              "    <tr>\n",
              "      <th>1855976</th>\n",
              "      <td>1</td>\n",
              "      <td>3232268330</td>\n",
              "      <td>1</td>\n",
              "      <td>56477</td>\n",
              "      <td>1</td>\n",
              "      <td>53</td>\n",
              "      <td>17</td>\n",
              "      <td>2</td>\n",
              "      <td>215</td>\n",
              "      <td>66</td>\n",
              "      <td>...</td>\n",
              "      <td>1.556639e+09</td>\n",
              "      <td>1.556639e+09</td>\n",
              "      <td>0.000000e+00</td>\n",
              "      <td>0.000000e+00</td>\n",
              "      <td>0.000000</td>\n",
              "      <td>0.000000</td>\n",
              "      <td>0.000000</td>\n",
              "      <td>2</td>\n",
              "      <td>1</td>\n",
              "      <td>1</td>\n",
              "    </tr>\n",
              "    <tr>\n",
              "      <th>1665637</th>\n",
              "      <td>2</td>\n",
              "      <td>3232266573</td>\n",
              "      <td>2</td>\n",
              "      <td>58664</td>\n",
              "      <td>2</td>\n",
              "      <td>443</td>\n",
              "      <td>6</td>\n",
              "      <td>19</td>\n",
              "      <td>6735</td>\n",
              "      <td>40</td>\n",
              "      <td>...</td>\n",
              "      <td>1.556639e+09</td>\n",
              "      <td>1.556639e+09</td>\n",
              "      <td>1.555082e+12</td>\n",
              "      <td>9.536743e-07</td>\n",
              "      <td>0.114066</td>\n",
              "      <td>0.027554</td>\n",
              "      <td>0.038676</td>\n",
              "      <td>2</td>\n",
              "      <td>1</td>\n",
              "      <td>2</td>\n",
              "    </tr>\n",
              "    <tr>\n",
              "      <th>2410347</th>\n",
              "      <td>3</td>\n",
              "      <td>3232268375</td>\n",
              "      <td>3</td>\n",
              "      <td>56876</td>\n",
              "      <td>3</td>\n",
              "      <td>37431</td>\n",
              "      <td>6</td>\n",
              "      <td>9</td>\n",
              "      <td>452</td>\n",
              "      <td>40</td>\n",
              "      <td>...</td>\n",
              "      <td>1.559685e+09</td>\n",
              "      <td>1.559685e+09</td>\n",
              "      <td>1.558125e+12</td>\n",
              "      <td>2.040148e-03</td>\n",
              "      <td>0.549863</td>\n",
              "      <td>0.257491</td>\n",
              "      <td>0.225166</td>\n",
              "      <td>3</td>\n",
              "      <td>1</td>\n",
              "      <td>3</td>\n",
              "    </tr>\n",
              "    <tr>\n",
              "      <th>1560157</th>\n",
              "      <td>4</td>\n",
              "      <td>3232268349</td>\n",
              "      <td>4</td>\n",
              "      <td>60810</td>\n",
              "      <td>4</td>\n",
              "      <td>6882</td>\n",
              "      <td>6</td>\n",
              "      <td>2</td>\n",
              "      <td>104</td>\n",
              "      <td>52</td>\n",
              "      <td>...</td>\n",
              "      <td>0.000000e+00</td>\n",
              "      <td>0.000000e+00</td>\n",
              "      <td>0.000000e+00</td>\n",
              "      <td>0.000000e+00</td>\n",
              "      <td>0.000000</td>\n",
              "      <td>0.000000</td>\n",
              "      <td>0.000000</td>\n",
              "      <td>2</td>\n",
              "      <td>1</td>\n",
              "      <td>4</td>\n",
              "    </tr>\n",
              "    <tr>\n",
              "      <th>82866</th>\n",
              "      <td>5</td>\n",
              "      <td>3232266826</td>\n",
              "      <td>5</td>\n",
              "      <td>47102</td>\n",
              "      <td>5</td>\n",
              "      <td>443</td>\n",
              "      <td>6</td>\n",
              "      <td>1</td>\n",
              "      <td>52</td>\n",
              "      <td>52</td>\n",
              "      <td>...</td>\n",
              "      <td>0.000000e+00</td>\n",
              "      <td>0.000000e+00</td>\n",
              "      <td>0.000000e+00</td>\n",
              "      <td>0.000000e+00</td>\n",
              "      <td>0.000000</td>\n",
              "      <td>0.000000</td>\n",
              "      <td>0.000000</td>\n",
              "      <td>2</td>\n",
              "      <td>2</td>\n",
              "      <td>5</td>\n",
              "    </tr>\n",
              "  </tbody>\n",
              "</table>\n",
              "<p>5 rows × 49 columns</p>\n",
              "</div>\n",
              "      <button class=\"colab-df-convert\" onclick=\"convertToInteractive('df-eea17562-d025-49c9-9f57-2d6c1fe55169')\"\n",
              "              title=\"Convert this dataframe to an interactive table.\"\n",
              "              style=\"display:none;\">\n",
              "        \n",
              "  <svg xmlns=\"http://www.w3.org/2000/svg\" height=\"24px\"viewBox=\"0 0 24 24\"\n",
              "       width=\"24px\">\n",
              "    <path d=\"M0 0h24v24H0V0z\" fill=\"none\"/>\n",
              "    <path d=\"M18.56 5.44l.94 2.06.94-2.06 2.06-.94-2.06-.94-.94-2.06-.94 2.06-2.06.94zm-11 1L8.5 8.5l.94-2.06 2.06-.94-2.06-.94L8.5 2.5l-.94 2.06-2.06.94zm10 10l.94 2.06.94-2.06 2.06-.94-2.06-.94-.94-2.06-.94 2.06-2.06.94z\"/><path d=\"M17.41 7.96l-1.37-1.37c-.4-.4-.92-.59-1.43-.59-.52 0-1.04.2-1.43.59L10.3 9.45l-7.72 7.72c-.78.78-.78 2.05 0 2.83L4 21.41c.39.39.9.59 1.41.59.51 0 1.02-.2 1.41-.59l7.78-7.78 2.81-2.81c.8-.78.8-2.07 0-2.86zM5.41 20L4 18.59l7.72-7.72 1.47 1.35L5.41 20z\"/>\n",
              "  </svg>\n",
              "      </button>\n",
              "      \n",
              "  <style>\n",
              "    .colab-df-container {\n",
              "      display:flex;\n",
              "      flex-wrap:wrap;\n",
              "      gap: 12px;\n",
              "    }\n",
              "\n",
              "    .colab-df-convert {\n",
              "      background-color: #E8F0FE;\n",
              "      border: none;\n",
              "      border-radius: 50%;\n",
              "      cursor: pointer;\n",
              "      display: none;\n",
              "      fill: #1967D2;\n",
              "      height: 32px;\n",
              "      padding: 0 0 0 0;\n",
              "      width: 32px;\n",
              "    }\n",
              "\n",
              "    .colab-df-convert:hover {\n",
              "      background-color: #E2EBFA;\n",
              "      box-shadow: 0px 1px 2px rgba(60, 64, 67, 0.3), 0px 1px 3px 1px rgba(60, 64, 67, 0.15);\n",
              "      fill: #174EA6;\n",
              "    }\n",
              "\n",
              "    [theme=dark] .colab-df-convert {\n",
              "      background-color: #3B4455;\n",
              "      fill: #D2E3FC;\n",
              "    }\n",
              "\n",
              "    [theme=dark] .colab-df-convert:hover {\n",
              "      background-color: #434B5C;\n",
              "      box-shadow: 0px 1px 3px 1px rgba(0, 0, 0, 0.15);\n",
              "      filter: drop-shadow(0px 1px 2px rgba(0, 0, 0, 0.3));\n",
              "      fill: #FFFFFF;\n",
              "    }\n",
              "  </style>\n",
              "\n",
              "      <script>\n",
              "        const buttonEl =\n",
              "          document.querySelector('#df-eea17562-d025-49c9-9f57-2d6c1fe55169 button.colab-df-convert');\n",
              "        buttonEl.style.display =\n",
              "          google.colab.kernel.accessAllowed ? 'block' : 'none';\n",
              "\n",
              "        async function convertToInteractive(key) {\n",
              "          const element = document.querySelector('#df-eea17562-d025-49c9-9f57-2d6c1fe55169');\n",
              "          const dataTable =\n",
              "            await google.colab.kernel.invokeFunction('convertToInteractive',\n",
              "                                                     [key], {});\n",
              "          if (!dataTable) return;\n",
              "\n",
              "          const docLinkHtml = 'Like what you see? Visit the ' +\n",
              "            '<a target=\"_blank\" href=https://colab.research.google.com/notebooks/data_table.ipynb>data table notebook</a>'\n",
              "            + ' to learn more about interactive tables.';\n",
              "          element.innerHTML = '';\n",
              "          dataTable['output_type'] = 'display_data';\n",
              "          await google.colab.output.renderOutput(dataTable, element);\n",
              "          const docLink = document.createElement('div');\n",
              "          docLink.innerHTML = docLinkHtml;\n",
              "          element.appendChild(docLink);\n",
              "        }\n",
              "      </script>\n",
              "    </div>\n",
              "  </div>\n",
              "  "
            ],
            "text/plain": [
              "         flow_key  src_ip_numeric  src_ip  src_port  dst_ip  dst_port  proto  \\\n",
              "1855976         1      3232268330       1     56477       1        53     17   \n",
              "1665637         2      3232266573       2     58664       2       443      6   \n",
              "2410347         3      3232268375       3     56876       3     37431      6   \n",
              "1560157         4      3232268349       4     60810       4      6882      6   \n",
              "82866           5      3232266826       5     47102       5       443      6   \n",
              "\n",
              "         pktTotalCount  octetTotalCount  min_ps  ...   b_flowStart  \\\n",
              "1855976              2              215      66  ...  1.556639e+09   \n",
              "1665637             19             6735      40  ...  1.556639e+09   \n",
              "2410347              9              452      40  ...  1.559685e+09   \n",
              "1560157              2              104      52  ...  0.000000e+00   \n",
              "82866                1               52      52  ...  0.000000e+00   \n",
              "\n",
              "            b_flowEnd  b_flowDuration    b_min_piat  b_max_piat  b_avg_piat  \\\n",
              "1855976  1.556639e+09    0.000000e+00  0.000000e+00    0.000000    0.000000   \n",
              "1665637  1.556639e+09    1.555082e+12  9.536743e-07    0.114066    0.027554   \n",
              "2410347  1.559685e+09    1.558125e+12  2.040148e-03    0.549863    0.257491   \n",
              "1560157  0.000000e+00    0.000000e+00  0.000000e+00    0.000000    0.000000   \n",
              "82866    0.000000e+00    0.000000e+00  0.000000e+00    0.000000    0.000000   \n",
              "\n",
              "         b_std_dev_piat  flowEndReason  application_protocol  web_service  \n",
              "1855976        0.000000              2                     1            1  \n",
              "1665637        0.038676              2                     1            2  \n",
              "2410347        0.225166              3                     1            3  \n",
              "1560157        0.000000              2                     1            4  \n",
              "82866          0.000000              2                     2            5  \n",
              "\n",
              "[5 rows x 49 columns]"
            ]
          },
          "execution_count": 27,
          "metadata": {},
          "output_type": "execute_result"
        }
      ],
      "source": [
        "X_train.head()"
      ]
    },
    {
      "cell_type": "code",
      "execution_count": null,
      "metadata": {
        "colab": {
          "base_uri": "https://localhost:8080/",
          "height": 299
        },
        "id": "1qZvQzg9RFaE",
        "outputId": "1978ae25-7c97-4376-b95e-98632eaf0381"
      },
      "outputs": [
        {
          "data": {
            "text/html": [
              "\n",
              "  <div id=\"df-acd57395-2f4b-4b7f-92e0-f05291280a8e\">\n",
              "    <div class=\"colab-df-container\">\n",
              "      <div>\n",
              "<style scoped>\n",
              "    .dataframe tbody tr th:only-of-type {\n",
              "        vertical-align: middle;\n",
              "    }\n",
              "\n",
              "    .dataframe tbody tr th {\n",
              "        vertical-align: top;\n",
              "    }\n",
              "\n",
              "    .dataframe thead th {\n",
              "        text-align: right;\n",
              "    }\n",
              "</style>\n",
              "<table border=\"1\" class=\"dataframe\">\n",
              "  <thead>\n",
              "    <tr style=\"text-align: right;\">\n",
              "      <th></th>\n",
              "      <th>flow_key</th>\n",
              "      <th>src_ip_numeric</th>\n",
              "      <th>src_ip</th>\n",
              "      <th>src_port</th>\n",
              "      <th>dst_ip</th>\n",
              "      <th>dst_port</th>\n",
              "      <th>proto</th>\n",
              "      <th>pktTotalCount</th>\n",
              "      <th>octetTotalCount</th>\n",
              "      <th>min_ps</th>\n",
              "      <th>...</th>\n",
              "      <th>b_flowStart</th>\n",
              "      <th>b_flowEnd</th>\n",
              "      <th>b_flowDuration</th>\n",
              "      <th>b_min_piat</th>\n",
              "      <th>b_max_piat</th>\n",
              "      <th>b_avg_piat</th>\n",
              "      <th>b_std_dev_piat</th>\n",
              "      <th>flowEndReason</th>\n",
              "      <th>application_protocol</th>\n",
              "      <th>web_service</th>\n",
              "    </tr>\n",
              "  </thead>\n",
              "  <tbody>\n",
              "    <tr>\n",
              "      <th>2035266</th>\n",
              "      <td>-1.0</td>\n",
              "      <td>3232266846</td>\n",
              "      <td>91.0</td>\n",
              "      <td>54470</td>\n",
              "      <td>750.0</td>\n",
              "      <td>80</td>\n",
              "      <td>6</td>\n",
              "      <td>11</td>\n",
              "      <td>1300</td>\n",
              "      <td>40</td>\n",
              "      <td>...</td>\n",
              "      <td>1.559658e+09</td>\n",
              "      <td>1.559658e+09</td>\n",
              "      <td>1.558098e+12</td>\n",
              "      <td>0.001293</td>\n",
              "      <td>5.004293</td>\n",
              "      <td>2.109709</td>\n",
              "      <td>2.175080</td>\n",
              "      <td>3</td>\n",
              "      <td>1.0</td>\n",
              "      <td>11.0</td>\n",
              "    </tr>\n",
              "    <tr>\n",
              "      <th>2359343</th>\n",
              "      <td>630268.0</td>\n",
              "      <td>3232268330</td>\n",
              "      <td>1.0</td>\n",
              "      <td>51433</td>\n",
              "      <td>5857.0</td>\n",
              "      <td>443</td>\n",
              "      <td>6</td>\n",
              "      <td>3</td>\n",
              "      <td>151</td>\n",
              "      <td>40</td>\n",
              "      <td>...</td>\n",
              "      <td>1.559669e+09</td>\n",
              "      <td>1.559669e+09</td>\n",
              "      <td>0.000000e+00</td>\n",
              "      <td>0.000000</td>\n",
              "      <td>0.000000</td>\n",
              "      <td>0.000000</td>\n",
              "      <td>0.000000</td>\n",
              "      <td>4</td>\n",
              "      <td>1.0</td>\n",
              "      <td>2.0</td>\n",
              "    </tr>\n",
              "    <tr>\n",
              "      <th>1633209</th>\n",
              "      <td>-1.0</td>\n",
              "      <td>3232268421</td>\n",
              "      <td>204.0</td>\n",
              "      <td>21674</td>\n",
              "      <td>1.0</td>\n",
              "      <td>53</td>\n",
              "      <td>17</td>\n",
              "      <td>2</td>\n",
              "      <td>169</td>\n",
              "      <td>62</td>\n",
              "      <td>...</td>\n",
              "      <td>1.556290e+09</td>\n",
              "      <td>1.556290e+09</td>\n",
              "      <td>0.000000e+00</td>\n",
              "      <td>0.000000</td>\n",
              "      <td>0.000000</td>\n",
              "      <td>0.000000</td>\n",
              "      <td>0.000000</td>\n",
              "      <td>2</td>\n",
              "      <td>4.0</td>\n",
              "      <td>17.0</td>\n",
              "    </tr>\n",
              "    <tr>\n",
              "      <th>507077</th>\n",
              "      <td>98594.0</td>\n",
              "      <td>3232268045</td>\n",
              "      <td>22.0</td>\n",
              "      <td>60880</td>\n",
              "      <td>7.0</td>\n",
              "      <td>443</td>\n",
              "      <td>6</td>\n",
              "      <td>13</td>\n",
              "      <td>3366</td>\n",
              "      <td>52</td>\n",
              "      <td>...</td>\n",
              "      <td>1.556035e+09</td>\n",
              "      <td>1.556035e+09</td>\n",
              "      <td>1.554479e+12</td>\n",
              "      <td>0.000065</td>\n",
              "      <td>0.101599</td>\n",
              "      <td>0.028283</td>\n",
              "      <td>0.037508</td>\n",
              "      <td>3</td>\n",
              "      <td>2.0</td>\n",
              "      <td>22.0</td>\n",
              "    </tr>\n",
              "    <tr>\n",
              "      <th>1966250</th>\n",
              "      <td>265063.0</td>\n",
              "      <td>3232266608</td>\n",
              "      <td>87.0</td>\n",
              "      <td>0</td>\n",
              "      <td>1.0</td>\n",
              "      <td>0</td>\n",
              "      <td>1</td>\n",
              "      <td>15</td>\n",
              "      <td>2646</td>\n",
              "      <td>111</td>\n",
              "      <td>...</td>\n",
              "      <td>0.000000e+00</td>\n",
              "      <td>0.000000e+00</td>\n",
              "      <td>0.000000e+00</td>\n",
              "      <td>0.000000</td>\n",
              "      <td>0.000000</td>\n",
              "      <td>0.000000</td>\n",
              "      <td>0.000000</td>\n",
              "      <td>2</td>\n",
              "      <td>1.0</td>\n",
              "      <td>55.0</td>\n",
              "    </tr>\n",
              "  </tbody>\n",
              "</table>\n",
              "<p>5 rows × 49 columns</p>\n",
              "</div>\n",
              "      <button class=\"colab-df-convert\" onclick=\"convertToInteractive('df-acd57395-2f4b-4b7f-92e0-f05291280a8e')\"\n",
              "              title=\"Convert this dataframe to an interactive table.\"\n",
              "              style=\"display:none;\">\n",
              "        \n",
              "  <svg xmlns=\"http://www.w3.org/2000/svg\" height=\"24px\"viewBox=\"0 0 24 24\"\n",
              "       width=\"24px\">\n",
              "    <path d=\"M0 0h24v24H0V0z\" fill=\"none\"/>\n",
              "    <path d=\"M18.56 5.44l.94 2.06.94-2.06 2.06-.94-2.06-.94-.94-2.06-.94 2.06-2.06.94zm-11 1L8.5 8.5l.94-2.06 2.06-.94-2.06-.94L8.5 2.5l-.94 2.06-2.06.94zm10 10l.94 2.06.94-2.06 2.06-.94-2.06-.94-.94-2.06-.94 2.06-2.06.94z\"/><path d=\"M17.41 7.96l-1.37-1.37c-.4-.4-.92-.59-1.43-.59-.52 0-1.04.2-1.43.59L10.3 9.45l-7.72 7.72c-.78.78-.78 2.05 0 2.83L4 21.41c.39.39.9.59 1.41.59.51 0 1.02-.2 1.41-.59l7.78-7.78 2.81-2.81c.8-.78.8-2.07 0-2.86zM5.41 20L4 18.59l7.72-7.72 1.47 1.35L5.41 20z\"/>\n",
              "  </svg>\n",
              "      </button>\n",
              "      \n",
              "  <style>\n",
              "    .colab-df-container {\n",
              "      display:flex;\n",
              "      flex-wrap:wrap;\n",
              "      gap: 12px;\n",
              "    }\n",
              "\n",
              "    .colab-df-convert {\n",
              "      background-color: #E8F0FE;\n",
              "      border: none;\n",
              "      border-radius: 50%;\n",
              "      cursor: pointer;\n",
              "      display: none;\n",
              "      fill: #1967D2;\n",
              "      height: 32px;\n",
              "      padding: 0 0 0 0;\n",
              "      width: 32px;\n",
              "    }\n",
              "\n",
              "    .colab-df-convert:hover {\n",
              "      background-color: #E2EBFA;\n",
              "      box-shadow: 0px 1px 2px rgba(60, 64, 67, 0.3), 0px 1px 3px 1px rgba(60, 64, 67, 0.15);\n",
              "      fill: #174EA6;\n",
              "    }\n",
              "\n",
              "    [theme=dark] .colab-df-convert {\n",
              "      background-color: #3B4455;\n",
              "      fill: #D2E3FC;\n",
              "    }\n",
              "\n",
              "    [theme=dark] .colab-df-convert:hover {\n",
              "      background-color: #434B5C;\n",
              "      box-shadow: 0px 1px 3px 1px rgba(0, 0, 0, 0.15);\n",
              "      filter: drop-shadow(0px 1px 2px rgba(0, 0, 0, 0.3));\n",
              "      fill: #FFFFFF;\n",
              "    }\n",
              "  </style>\n",
              "\n",
              "      <script>\n",
              "        const buttonEl =\n",
              "          document.querySelector('#df-acd57395-2f4b-4b7f-92e0-f05291280a8e button.colab-df-convert');\n",
              "        buttonEl.style.display =\n",
              "          google.colab.kernel.accessAllowed ? 'block' : 'none';\n",
              "\n",
              "        async function convertToInteractive(key) {\n",
              "          const element = document.querySelector('#df-acd57395-2f4b-4b7f-92e0-f05291280a8e');\n",
              "          const dataTable =\n",
              "            await google.colab.kernel.invokeFunction('convertToInteractive',\n",
              "                                                     [key], {});\n",
              "          if (!dataTable) return;\n",
              "\n",
              "          const docLinkHtml = 'Like what you see? Visit the ' +\n",
              "            '<a target=\"_blank\" href=https://colab.research.google.com/notebooks/data_table.ipynb>data table notebook</a>'\n",
              "            + ' to learn more about interactive tables.';\n",
              "          element.innerHTML = '';\n",
              "          dataTable['output_type'] = 'display_data';\n",
              "          await google.colab.output.renderOutput(dataTable, element);\n",
              "          const docLink = document.createElement('div');\n",
              "          docLink.innerHTML = docLinkHtml;\n",
              "          element.appendChild(docLink);\n",
              "        }\n",
              "      </script>\n",
              "    </div>\n",
              "  </div>\n",
              "  "
            ],
            "text/plain": [
              "         flow_key  src_ip_numeric  src_ip  src_port  dst_ip  dst_port  proto  \\\n",
              "2035266      -1.0      3232266846    91.0     54470   750.0        80      6   \n",
              "2359343  630268.0      3232268330     1.0     51433  5857.0       443      6   \n",
              "1633209      -1.0      3232268421   204.0     21674     1.0        53     17   \n",
              "507077    98594.0      3232268045    22.0     60880     7.0       443      6   \n",
              "1966250  265063.0      3232266608    87.0         0     1.0         0      1   \n",
              "\n",
              "         pktTotalCount  octetTotalCount  min_ps  ...   b_flowStart  \\\n",
              "2035266             11             1300      40  ...  1.559658e+09   \n",
              "2359343              3              151      40  ...  1.559669e+09   \n",
              "1633209              2              169      62  ...  1.556290e+09   \n",
              "507077              13             3366      52  ...  1.556035e+09   \n",
              "1966250             15             2646     111  ...  0.000000e+00   \n",
              "\n",
              "            b_flowEnd  b_flowDuration  b_min_piat  b_max_piat  b_avg_piat  \\\n",
              "2035266  1.559658e+09    1.558098e+12    0.001293    5.004293    2.109709   \n",
              "2359343  1.559669e+09    0.000000e+00    0.000000    0.000000    0.000000   \n",
              "1633209  1.556290e+09    0.000000e+00    0.000000    0.000000    0.000000   \n",
              "507077   1.556035e+09    1.554479e+12    0.000065    0.101599    0.028283   \n",
              "1966250  0.000000e+00    0.000000e+00    0.000000    0.000000    0.000000   \n",
              "\n",
              "         b_std_dev_piat  flowEndReason  application_protocol  web_service  \n",
              "2035266        2.175080              3                   1.0         11.0  \n",
              "2359343        0.000000              4                   1.0          2.0  \n",
              "1633209        0.000000              2                   4.0         17.0  \n",
              "507077         0.037508              3                   2.0         22.0  \n",
              "1966250        0.000000              2                   1.0         55.0  \n",
              "\n",
              "[5 rows x 49 columns]"
            ]
          },
          "execution_count": 28,
          "metadata": {},
          "output_type": "execute_result"
        }
      ],
      "source": [
        "X_test.head()"
      ]
    },
    {
      "cell_type": "markdown",
      "metadata": {
        "id": "e8Fk6RHViLyf"
      },
      "source": [
        "# 5.Classification Desicion Tree"
      ]
    },
    {
      "cell_type": "code",
      "execution_count": null,
      "metadata": {
        "colab": {
          "base_uri": "https://localhost:8080/"
        },
        "id": "jnmoFwvAB_8V",
        "outputId": "130ff07b-f9c8-4b8c-c63d-23cf675896e6"
      },
      "outputs": [
        {
          "data": {
            "text/plain": [
              "DecisionTreeClassifier(criterion='entropy', max_depth=3, random_state=0)"
            ]
          },
          "execution_count": 16,
          "metadata": {},
          "output_type": "execute_result"
        }
      ],
      "source": [
        "clf_gini = DecisionTreeClassifier(criterion='entropy', max_depth=3, random_state=0)\n",
        "\n",
        "\n",
        "# fit the model\n",
        "clf_gini.fit(X_train, y_train)"
      ]
    },
    {
      "cell_type": "code",
      "execution_count": null,
      "metadata": {
        "id": "IfxJINsaRy9l"
      },
      "outputs": [],
      "source": [
        "y_pred_gini = clf_gini.predict(X_test)"
      ]
    },
    {
      "cell_type": "code",
      "execution_count": null,
      "metadata": {
        "colab": {
          "base_uri": "https://localhost:8080/"
        },
        "id": "kgtyy3mmR5LD",
        "outputId": "8e1d65cc-c364-43cc-c981-1e85bc19b89b"
      },
      "outputs": [
        {
          "name": "stdout",
          "output_type": "stream",
          "text": [
            "Model accuracy score with criterion gini index: 0.4226\n"
          ]
        }
      ],
      "source": [
        "from sklearn.metrics import accuracy_score\n",
        "\n",
        "print('Model accuracy score with criterion gini index: {0:0.4f}'. format(accuracy_score(y_test, y_pred_gini)))"
      ]
    },
    {
      "cell_type": "code",
      "execution_count": null,
      "metadata": {
        "colab": {
          "base_uri": "https://localhost:8080/",
          "height": 1000
        },
        "id": "Q0H4keIwSNA5",
        "outputId": "e06d7802-8bd8-42f7-ebc8-ec3ebc750b5e"
      },
      "outputs": [
        {
          "data": {
            "text/plain": [
              "[Text(0.5, 0.875, 'X[0] <= 443.5\\nentropy = 4.098\\nsamples = 1812242\\nvalue = [4, 29, 58770, 3429, 5633, 3371, 184, 2081, 473, 1\\n357, 47241, 23, 16, 289, 15, 11398, 1335, 4, 281352\\n44, 3411, 16, 7, 12853, 5, 31, 80704, 13797, 1\\n4578, 381539, 3511, 5122, 4406, 237, 255, 58576, 4\\n102295, 22839, 7, 5, 5019, 769, 15444, 45, 8, 10478\\n3266, 1849, 3, 299, 9697, 2216, 30358, 115597, 124\\n409, 6, 4170, 2, 16069, 1407, 16416, 280, 35, 7\\n128, 1, 133, 117, 3316, 169, 1, 672, 240, 1351, 14\\n12, 3, 1184, 140, 2, 149, 9, 406, 545, 9262, 3\\n1, 22, 208, 2890, 3095, 2, 10677, 216, 960, 54, 78\\n2268, 462, 544, 401, 173721, 123, 634, 547, 784, 372\\n11, 6, 309, 7129, 6, 1, 10423, 263, 167356, 27, 4\\n14, 67, 9, 15787, 673, 4, 2, 1134, 7479, 736, 3030\\n37437, 1, 161, 1, 35]'),\n",
              " Text(0.25, 0.625, 'X[0] <= 105.5\\nentropy = 3.767\\nsamples = 1470154\\nvalue = [0, 0, 56095, 3355, 5436, 2783, 183, 2079, 467, 0\\n0, 167, 22, 0, 283, 0, 11317, 1335, 0, 281349, 42\\n3411, 16, 7, 12484, 5, 26, 79830, 12045, 0, 4556\\n361840, 3460, 4935, 54, 217, 252, 53834, 0, 75744, 0\\n7, 0, 5019, 0, 0, 0, 0, 10450, 3266, 1737, 0, 1\\n9325, 2216, 30358, 112030, 1, 0, 0, 4170, 0, 16069\\n1382, 15514, 153, 33, 0, 0, 0, 133, 0, 3307, 151\\n0, 661, 240, 0, 1, 0, 0, 1184, 138, 0, 0, 0, 0\\n15, 9262, 0, 0, 0, 29, 8, 71, 2, 10396, 106, 960\\n53, 62, 2202, 456, 292, 0, 172352, 0, 18, 471, 0\\n372, 7, 6, 309, 6848, 0, 0, 10415, 2, 2687, 0, 2\\n14, 29, 9, 12785, 510, 4, 1, 1104, 7381, 719, 2897\\n31961, 1, 161, 0, 0]'),\n",
              " Text(0.125, 0.375, 'X[0] <= 60.0\\nentropy = 3.172\\nsamples = 740254\\nvalue = [0, 0, 7958, 2556, 3002, 2753, 83, 669, 217, 0, 0\\n167, 13, 0, 0, 0, 1947, 1335, 0, 281349, 17, 2251\\n10, 7, 4722, 5, 26, 13751, 6177, 0, 2225, 147977\\n1857, 2532, 0, 131, 141, 24722, 0, 75741, 0, 4, 0\\n5019, 0, 0, 0, 0, 3567, 0, 932, 0, 1, 6741, 382\\n10030, 70695, 1, 0, 0, 0, 0, 0, 487, 7889, 123\\n33, 0, 0, 0, 133, 0, 1296, 144, 0, 473, 18, 0\\n0, 0, 0, 0, 0, 0, 0, 0, 0, 15, 0, 0, 0, 0\\n29, 0, 0, 2, 3930, 104, 455, 23, 33, 958, 454\\n273, 0, 75, 0, 0, 94, 0, 186, 0, 5, 86, 3453\\n0, 0, 10292, 0, 1827, 0, 2, 7, 18, 1, 6061, 0\\n4, 0, 649, 6031, 424, 1516, 10850, 0, 88, 0, 0]'),\n",
              " Text(0.0625, 0.125, 'entropy = 2.843\\nsamples = 618818\\nvalue = [0, 0, 4248, 2458, 2255, 2677, 76, 669, 214, 0, 0\\n16, 11, 0, 0, 0, 0, 0, 0, 281349, 17, 1782, 7\\n0, 4690, 5, 0, 12982, 6177, 0, 2185, 137827, 1857\\n2532, 0, 105, 141, 24300, 0, 1, 0, 4, 0, 5019, 0\\n0, 0, 0, 3564, 0, 925, 0, 0, 4096, 315, 10030\\n57100, 0, 0, 0, 0, 0, 0, 481, 5678, 114, 33, 0\\n0, 0, 0, 0, 1296, 144, 0, 315, 0, 0, 0, 0, 0\\n0, 0, 0, 0, 0, 0, 15, 0, 0, 0, 0, 28, 0, 0\\n2, 3832, 104, 455, 23, 33, 883, 0, 205, 0, 0, 0\\n0, 51, 0, 135, 0, 5, 52, 3366, 0, 0, 9637, 0\\n1815, 0, 2, 7, 0, 1, 4716, 0, 4, 0, 642, 2380\\n375, 1431, 10839, 0, 85, 0, 0]'),\n",
              " Text(0.1875, 0.125, 'entropy = 2.21\\nsamples = 121436\\nvalue = [0, 0, 3710, 98, 747, 76, 7, 0, 3, 0, 0, 151, 2\\n0, 0, 0, 1947, 1335, 0, 0, 0, 469, 3, 7, 32, 0\\n26, 769, 0, 0, 40, 10150, 0, 0, 0, 26, 0, 422\\n0, 75740, 0, 0, 0, 0, 0, 0, 0, 0, 3, 0, 7, 0\\n1, 2645, 67, 0, 13595, 1, 0, 0, 0, 0, 0, 6\\n2211, 9, 0, 0, 0, 0, 133, 0, 0, 0, 0, 158, 18\\n0, 0, 0, 0, 0, 0, 0, 0, 0, 0, 0, 0, 0, 0\\n0, 1, 0, 0, 0, 98, 0, 0, 0, 0, 75, 454, 68\\n0, 75, 0, 0, 43, 0, 51, 0, 0, 34, 87, 0, 0\\n655, 0, 12, 0, 0, 0, 18, 0, 1345, 0, 0, 0, 7\\n3651, 49, 85, 11, 0, 3, 0, 0]'),\n",
              " Text(0.375, 0.375, 'X[0] <= 428.5\\nentropy = 3.458\\nsamples = 729900\\nvalue = [0, 0, 48137, 799, 2434, 30, 100, 1410, 250, 0, 0\\n0, 9, 0, 283, 0, 9370, 0, 0, 0, 25, 1160, 6, 0\\n7762, 0, 0, 66079, 5868, 0, 2331, 213863, 1603, 2403\\n54, 86, 111, 29112, 0, 3, 0, 3, 0, 0, 0, 0, 0\\n0, 6883, 3266, 805, 0, 0, 2584, 1834, 20328, 41335\\n0, 0, 0, 4170, 0, 16069, 895, 7625, 30, 0, 0, 0\\n0, 0, 0, 2011, 7, 0, 188, 222, 0, 1, 0, 0\\n1184, 138, 0, 0, 0, 0, 0, 9262, 0, 0, 0, 0, 8\\n71, 0, 6466, 2, 505, 30, 29, 1244, 2, 19, 0\\n172277, 0, 18, 377, 0, 186, 7, 1, 223, 3395, 0\\n0, 123, 2, 860, 0, 0, 7, 11, 8, 6724, 510, 0\\n1, 455, 1350, 295, 1381, 21111, 1, 73, 0, 0]'),\n",
              " Text(0.3125, 0.125, 'entropy = 1.931\\nsamples = 34129\\nvalue = [0, 0, 0, 0, 0, 0, 0, 0, 0, 0, 0, 0, 0, 0\\n0, 0, 1, 0, 0, 0, 0, 0, 0, 0, 0, 0, 0, 0\\n0, 0, 0, 6, 0, 0, 0, 0, 0, 0, 0, 0, 0, 0\\n0, 0, 0, 0, 0, 0, 0, 3266, 0, 0, 0, 0, 0, 0\\n0, 0, 0, 0, 4170, 0, 16069, 0, 0, 0, 0, 0, 0\\n0, 0, 0, 0, 0, 0, 0, 0, 0, 0, 0, 0, 1184\\n138, 0, 0, 0, 0, 0, 9262, 0, 0, 0, 0, 7, 2\\n0, 0, 0, 0, 0, 0, 0, 0, 0, 0, 0, 0, 0, 0\\n0, 0, 0, 0, 0, 0, 0, 0, 0, 0, 24, 0, 0, 0\\n0, 0, 0, 0, 0, 0, 0, 0, 0, 0, 0, 0, 0, 0\\n0]'),\n",
              " Text(0.4375, 0.125, 'entropy = 3.248\\nsamples = 695771\\nvalue = [0, 0, 48137, 799, 2434, 30, 100, 1410, 250, 0, 0\\n0, 9, 0, 283, 0, 9369, 0, 0, 0, 25, 1160, 6, 0\\n7762, 0, 0, 66079, 5868, 0, 2331, 213857, 1603, 2403\\n54, 86, 111, 29112, 0, 3, 0, 3, 0, 0, 0, 0, 0\\n0, 6883, 0, 805, 0, 0, 2584, 1834, 20328, 41335, 0\\n0, 0, 0, 0, 0, 895, 7625, 30, 0, 0, 0, 0, 0\\n0, 2011, 7, 0, 188, 222, 0, 1, 0, 0, 0, 0, 0\\n0, 0, 0, 0, 0, 0, 0, 0, 0, 1, 69, 0, 6466, 2\\n505, 30, 29, 1244, 2, 19, 0, 172277, 0, 18, 377\\n0, 186, 7, 1, 223, 3395, 0, 0, 123, 2, 836, 0\\n0, 7, 11, 8, 6724, 510, 0, 1, 455, 1350, 295\\n1381, 21111, 1, 73, 0, 0]'),\n",
              " Text(0.75, 0.625, 'X[2] <= 3.5\\nentropy = 2.892\\nsamples = 342088\\nvalue = [4, 29, 2675, 74, 197, 588, 1, 2, 6, 1, 357\\n47074, 1, 16, 6, 15, 81, 0, 4, 3, 2, 0, 0, 0\\n369, 0, 5, 874, 1752, 1, 22, 19699, 51, 187, 4352\\n20, 3, 4742, 4, 26551, 22839, 0, 5, 0, 769, 15444\\n45, 8, 28, 0, 112, 3, 298, 372, 0, 0, 3567, 123\\n409, 6, 0, 2, 0, 25, 902, 127, 2, 7, 128, 1, 0\\n117, 9, 18, 1, 11, 0, 1351, 13, 12, 3, 0, 2, 2\\n149, 9, 406, 530, 0, 3, 1, 22, 179, 2882, 3024\\n0, 281, 110, 0, 1, 16, 66, 6, 252, 401, 1369\\n123, 616, 76, 784, 0, 4, 0, 0, 281, 6, 1, 8\\n261, 164669, 27, 2, 0, 38, 0, 3002, 163, 0, 1\\n30, 98, 17, 133, 5476, 0, 0, 1, 35]'),\n",
              " Text(0.625, 0.375, 'X[0] <= 3129.5\\nentropy = 1.752\\nsamples = 215613\\nvalue = [1, 29, 1177, 0, 88, 234, 0, 0, 0, 0, 349, 32953\\n0, 5, 6, 12, 78, 0, 3, 3, 0, 0, 0, 0, 1, 0\\n1, 19, 0, 0, 5, 1465, 0, 0, 1593, 0, 0, 38, 0\\n403, 16290, 0, 0, 0, 282, 15444, 13, 0, 1, 0, 0\\n2, 109, 1, 0, 0, 23, 2, 9, 6, 0, 2, 0, 0, 3\\n1, 2, 7, 10, 1, 0, 1, 0, 5, 0, 0, 0, 731, 6\\n0, 0, 0, 2, 2, 58, 0, 267, 0, 0, 2, 1, 14\\n88, 267, 479, 0, 13, 83, 0, 0, 0, 0, 1, 234\\n66, 41, 123, 84, 37, 215, 0, 4, 0, 0, 0, 0, 1\\n0, 15, 141340, 2, 2, 0, 23, 0, 607, 102, 0, 0\\n1, 1, 1, 0, 5, 0, 0, 1, 17]'),\n",
              " Text(0.5625, 0.125, 'entropy = 0.958\\nsamples = 92460\\nvalue = [1, 0, 3, 0, 76, 0, 0, 0, 0, 0, 0, 1506, 0, 5\\n0, 12, 65, 0, 0, 0, 0, 0, 0, 0, 1, 0, 1, 8\\n0, 0, 0, 428, 0, 0, 0, 0, 0, 3, 0, 207, 15150\\n0, 0, 0, 282, 0, 11, 0, 1, 0, 0, 2, 109, 1\\n0, 0, 23, 2, 8, 6, 0, 0, 0, 0, 3, 0, 2, 7\\n10, 0, 0, 0, 0, 0, 0, 0, 0, 20, 6, 0, 0, 0\\n0, 0, 0, 0, 267, 0, 0, 2, 0, 1, 1, 32, 3, 0\\n8, 55, 0, 0, 0, 0, 1, 0, 66, 7, 0, 0, 0, 0\\n0, 0, 0, 0, 0, 0, 0, 0, 0, 74039, 1, 1, 0, 0\\n0, 0, 0, 0, 0, 1, 1, 1, 0, 5, 0, 0, 0, 9]'),\n",
              " Text(0.6875, 0.125, 'entropy = 1.909\\nsamples = 123153\\nvalue = [0, 29, 1174, 0, 12, 234, 0, 0, 0, 0, 349, 31447\\n0, 0, 6, 0, 13, 0, 3, 3, 0, 0, 0, 0, 0, 0\\n0, 11, 0, 0, 5, 1037, 0, 0, 1593, 0, 0, 35, 0\\n196, 1140, 0, 0, 0, 0, 15444, 2, 0, 0, 0, 0, 0\\n0, 0, 0, 0, 0, 0, 1, 0, 0, 2, 0, 0, 0, 1\\n0, 0, 0, 1, 0, 1, 0, 5, 0, 0, 0, 711, 0, 0\\n0, 0, 2, 2, 58, 0, 0, 0, 0, 0, 1, 13, 87\\n235, 476, 0, 5, 28, 0, 0, 0, 0, 0, 234, 0, 34\\n123, 84, 37, 215, 0, 4, 0, 0, 0, 0, 1, 0, 15\\n67301, 1, 1, 0, 23, 0, 607, 102, 0, 0, 0, 0, 0\\n0, 0, 0, 0, 1, 8]'),\n",
              " Text(0.875, 0.375, 'X[0] <= 3137.5\\nentropy = 3.749\\nsamples = 126475\\nvalue = [3, 0, 1498, 74, 109, 354, 1, 2, 6, 1, 8, 14121\\n1, 11, 0, 3, 3, 0, 1, 0, 2, 0, 0, 0, 368, 0\\n4, 855, 1752, 1, 17, 18234, 51, 187, 2759, 20, 3\\n4704, 4, 26148, 6549, 0, 5, 0, 487, 0, 32, 8, 27\\n0, 112, 1, 189, 371, 0, 0, 3544, 121, 400, 0, 0\\n0, 0, 25, 899, 126, 0, 0, 118, 0, 0, 116, 9\\n13, 1, 11, 0, 620, 7, 12, 3, 0, 0, 0, 91, 9\\n139, 530, 0, 1, 0, 8, 91, 2615, 2545, 0, 268, 27\\n0, 1, 16, 66, 5, 18, 335, 1328, 0, 532, 39, 569\\n0, 0, 0, 0, 281, 6, 0, 8, 246, 23329, 25, 0, 0\\n15, 0, 2395, 61, 0, 1, 29, 97, 16, 133, 5471, 0\\n0, 0, 18]'),\n",
              " Text(0.8125, 0.125, 'entropy = 3.179\\nsamples = 78816\\nvalue = [3, 0, 103, 74, 96, 0, 1, 2, 6, 1, 0, 286, 1\\n11, 0, 3, 0, 0, 0, 0, 2, 0, 0, 0, 368, 0, 0\\n848, 1752, 1, 16, 16190, 51, 187, 1, 20, 3, 2022\\n2, 24043, 6418, 0, 0, 0, 487, 0, 14, 0, 27, 0\\n112, 1, 189, 371, 0, 0, 3544, 121, 310, 0, 0, 0\\n0, 25, 899, 0, 0, 0, 118, 0, 0, 0, 9, 0, 0\\n0, 0, 11, 1, 0, 3, 0, 0, 0, 0, 9, 139, 530\\n0, 1, 0, 4, 0, 23, 14, 0, 249, 1, 0, 1, 16\\n11, 5, 0, 335, 511, 0, 0, 0, 0, 0, 0, 0, 0\\n281, 0, 0, 8, 0, 11865, 3, 0, 0, 0, 0, 303, 0\\n0, 1, 29, 97, 16, 133, 5471, 0, 0, 0, 7]'),\n",
              " Text(0.9375, 0.125, 'entropy = 3.308\\nsamples = 47659\\nvalue = [0, 0, 1395, 0, 13, 354, 0, 0, 0, 0, 8, 13835\\n0, 0, 0, 0, 3, 0, 1, 0, 0, 0, 0, 0, 0, 0\\n4, 7, 0, 0, 1, 2044, 0, 0, 2758, 0, 0, 2682, 2\\n2105, 131, 0, 5, 0, 0, 0, 18, 8, 0, 0, 0, 0\\n0, 0, 0, 0, 0, 0, 90, 0, 0, 0, 0, 0, 0, 126\\n0, 0, 0, 0, 0, 116, 0, 13, 1, 11, 0, 609, 6\\n12, 0, 0, 0, 0, 91, 0, 0, 0, 0, 0, 0, 4, 91\\n2592, 2531, 0, 19, 26, 0, 0, 0, 55, 0, 18, 0\\n817, 0, 532, 39, 569, 0, 0, 0, 0, 0, 6, 0, 0\\n246, 11464, 22, 0, 0, 15, 0, 2092, 61, 0, 0, 0\\n0, 0, 0, 0, 0, 0, 0, 11]')]"
            ]
          },
          "execution_count": 19,
          "metadata": {},
          "output_type": "execute_result"
        },
        {
          "data": {
            "image/png": "[encoded data removed]",
            "text/plain": [
              "<Figure size 864x576 with 1 Axes>"
            ]
          },
          "metadata": {},
          "output_type": "display_data"
        }
      ],
      "source": [
        "import matplotlib.pyplot as plt # data visualization\n",
        "plt.figure(figsize=(12,8))\n",
        "\n",
        "from sklearn import tree\n",
        "\n",
        "tree.plot_tree(clf_gini.fit(X_train, y_train))"
      ]
    }
  ],
  "metadata": {
    "colab": {
      "provenance": []
    },
    "kernelspec": {
      "display_name": "Python 3",
      "name": "python3"
    },
    "language_info": {
      "name": "python"
    }
  },
  "nbformat": 4,
  "nbformat_minor": 0
}